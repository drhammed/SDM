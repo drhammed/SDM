{
  "cells": [
    {
      "cell_type": "markdown",
      "metadata": {
        "id": "view-in-github",
        "colab_type": "text"
      },
      "source": [
        "<a href=\"https://colab.research.google.com/github/drhammed/SDM/blob/main/Akande_Capstone_project.ipynb\" target=\"_parent\"><img src=\"https://colab.research.google.com/assets/colab-badge.svg\" alt=\"Open In Colab\"/></a>"
      ]
    },
    {
      "cell_type": "code",
      "execution_count": null,
      "metadata": {
        "colab": {
          "base_uri": "https://localhost:8080/"
        },
        "id": "KefsnaOdv-4j",
        "outputId": "33f14f6b-fbed-42db-dad9-ba1a513ab42f"
      },
      "outputs": [
        {
          "output_type": "stream",
          "name": "stdout",
          "text": [
            "Collecting requests_cache\n",
            "  Downloading requests_cache-0.9.3-py3-none-any.whl (47 kB)\n",
            "\u001b[?25l\r\u001b[K     |███████                         | 10 kB 13.7 MB/s eta 0:00:01\r\u001b[K     |█████████████▉                  | 20 kB 18.5 MB/s eta 0:00:01\r\u001b[K     |████████████████████▊           | 30 kB 21.7 MB/s eta 0:00:01\r\u001b[K     |███████████████████████████▊    | 40 kB 19.0 MB/s eta 0:00:01\r\u001b[K     |████████████████████████████████| 47 kB 2.1 MB/s \n",
            "\u001b[?25hCollecting cattrs<2.0,>=1.8\n",
            "  Downloading cattrs-1.10.0-py3-none-any.whl (29 kB)\n",
            "Requirement already satisfied: attrs<22.0,>=21.2 in /usr/local/lib/python3.7/dist-packages (from requests_cache) (21.4.0)\n",
            "Requirement already satisfied: appdirs<2.0.0,>=1.4.4 in /usr/local/lib/python3.7/dist-packages (from requests_cache) (1.4.4)\n",
            "Requirement already satisfied: requests<3.0,>=2.22 in /usr/local/lib/python3.7/dist-packages (from requests_cache) (2.23.0)\n",
            "Collecting urllib3<2.0.0,>=1.25.5\n",
            "  Downloading urllib3-1.26.8-py2.py3-none-any.whl (138 kB)\n",
            "\u001b[K     |████████████████████████████████| 138 kB 37.1 MB/s \n",
            "\u001b[?25hCollecting url-normalize<2.0,>=1.4\n",
            "  Downloading url_normalize-1.4.3-py2.py3-none-any.whl (6.8 kB)\n",
            "Requirement already satisfied: typing_extensions in /usr/local/lib/python3.7/dist-packages (from cattrs<2.0,>=1.8->requests_cache) (3.10.0.2)\n",
            "Collecting urllib3<2.0.0,>=1.25.5\n",
            "  Downloading urllib3-1.25.11-py2.py3-none-any.whl (127 kB)\n",
            "\u001b[K     |████████████████████████████████| 127 kB 66.5 MB/s \n",
            "\u001b[?25hRequirement already satisfied: chardet<4,>=3.0.2 in /usr/local/lib/python3.7/dist-packages (from requests<3.0,>=2.22->requests_cache) (3.0.4)\n",
            "Requirement already satisfied: certifi>=2017.4.17 in /usr/local/lib/python3.7/dist-packages (from requests<3.0,>=2.22->requests_cache) (2021.10.8)\n",
            "Requirement already satisfied: idna<3,>=2.5 in /usr/local/lib/python3.7/dist-packages (from requests<3.0,>=2.22->requests_cache) (2.10)\n",
            "Requirement already satisfied: six in /usr/local/lib/python3.7/dist-packages (from url-normalize<2.0,>=1.4->requests_cache) (1.15.0)\n",
            "Installing collected packages: urllib3, url-normalize, cattrs, requests-cache\n",
            "  Attempting uninstall: urllib3\n",
            "    Found existing installation: urllib3 1.24.3\n",
            "    Uninstalling urllib3-1.24.3:\n",
            "      Successfully uninstalled urllib3-1.24.3\n",
            "\u001b[31mERROR: pip's dependency resolver does not currently take into account all the packages that are installed. This behaviour is the source of the following dependency conflicts.\n",
            "datascience 0.10.6 requires folium==0.2.1, but you have folium 0.8.3 which is incompatible.\u001b[0m\n",
            "Successfully installed cattrs-1.10.0 requests-cache-0.9.3 url-normalize-1.4.3 urllib3-1.25.11\n"
          ]
        },
        {
          "output_type": "stream",
          "name": "stderr",
          "text": [
            "/usr/local/lib/python3.7/dist-packages/statsmodels/tools/_testing.py:19: FutureWarning: pandas.util.testing is deprecated. Use the functions in the public API at pandas.testing instead.\n",
            "  import pandas.util.testing as tm\n"
          ]
        }
      ],
      "source": [
        "#!pip install requests_cache\n",
        "#!pip install pygbif\n",
        "import pandas as pd\n",
        "import requests_cache\n",
        "#import pygbif\n",
        "import os, re, sys\n",
        "import numpy as np\n",
        "import matplotlib.pyplot as plt\n",
        "import io\n",
        "from scipy import stats\n",
        "import statsmodels.formula.api as sm\n",
        "import numpy as np\n",
        "import pandas as pd\n",
        "import matplotlib.pyplot as plt\n",
        "import seaborn as sns\n"
      ]
    },
    {
      "cell_type": "code",
      "execution_count": null,
      "metadata": {
        "id": "QRqCDUEtHXW9"
      },
      "outputs": [],
      "source": [
        "#from google.colab import files\n",
        "#uploaded = files.upload()\n"
      ]
    },
    {
      "cell_type": "code",
      "execution_count": null,
      "metadata": {
        "id": "6G5F3wsUGLJn"
      },
      "outputs": [],
      "source": [
        "#parrot = pd.read_csv(io.BytesIO(uploaded['parrot_clean_df.csv']), encoding='latin-1')\n",
        "\n",
        "parrot = pd.read_csv('https://raw.githubusercontent.com/drhammed/GColab/main/parrot_clean_df.csv', encoding='latin-1')\n"
      ]
    },
    {
      "cell_type": "code",
      "execution_count": null,
      "metadata": {
        "colab": {
          "base_uri": "https://localhost:8080/",
          "height": 206
        },
        "id": "Ca67mNEOFQEc",
        "outputId": "1d72f606-5fbf-44c1-c5ff-4d40ac4e63e9"
      },
      "outputs": [
        {
          "output_type": "execute_result",
          "data": {
            "text/plain": [
              "               species  decimalLongitude  decimalLatitude   country\n",
              "0  Psittacus erithacus         11.293967         4.173409  Cameroon\n",
              "1  Psittacus erithacus          5.374550         6.292117   Nigeria\n",
              "2  Psittacus erithacus         15.102933         0.956955     Congo\n",
              "3  Psittacus erithacus         11.981012        -0.179144     Gabon\n",
              "4  Psittacus erithacus         10.751233        -0.079009     Gabon"
            ],
            "text/html": [
              "\n",
              "  <div id=\"df-91853076-963f-483c-a9ee-509a2d9e4961\">\n",
              "    <div class=\"colab-df-container\">\n",
              "      <div>\n",
              "<style scoped>\n",
              "    .dataframe tbody tr th:only-of-type {\n",
              "        vertical-align: middle;\n",
              "    }\n",
              "\n",
              "    .dataframe tbody tr th {\n",
              "        vertical-align: top;\n",
              "    }\n",
              "\n",
              "    .dataframe thead th {\n",
              "        text-align: right;\n",
              "    }\n",
              "</style>\n",
              "<table border=\"1\" class=\"dataframe\">\n",
              "  <thead>\n",
              "    <tr style=\"text-align: right;\">\n",
              "      <th></th>\n",
              "      <th>species</th>\n",
              "      <th>decimalLongitude</th>\n",
              "      <th>decimalLatitude</th>\n",
              "      <th>country</th>\n",
              "    </tr>\n",
              "  </thead>\n",
              "  <tbody>\n",
              "    <tr>\n",
              "      <th>0</th>\n",
              "      <td>Psittacus erithacus</td>\n",
              "      <td>11.293967</td>\n",
              "      <td>4.173409</td>\n",
              "      <td>Cameroon</td>\n",
              "    </tr>\n",
              "    <tr>\n",
              "      <th>1</th>\n",
              "      <td>Psittacus erithacus</td>\n",
              "      <td>5.374550</td>\n",
              "      <td>6.292117</td>\n",
              "      <td>Nigeria</td>\n",
              "    </tr>\n",
              "    <tr>\n",
              "      <th>2</th>\n",
              "      <td>Psittacus erithacus</td>\n",
              "      <td>15.102933</td>\n",
              "      <td>0.956955</td>\n",
              "      <td>Congo</td>\n",
              "    </tr>\n",
              "    <tr>\n",
              "      <th>3</th>\n",
              "      <td>Psittacus erithacus</td>\n",
              "      <td>11.981012</td>\n",
              "      <td>-0.179144</td>\n",
              "      <td>Gabon</td>\n",
              "    </tr>\n",
              "    <tr>\n",
              "      <th>4</th>\n",
              "      <td>Psittacus erithacus</td>\n",
              "      <td>10.751233</td>\n",
              "      <td>-0.079009</td>\n",
              "      <td>Gabon</td>\n",
              "    </tr>\n",
              "  </tbody>\n",
              "</table>\n",
              "</div>\n",
              "      <button class=\"colab-df-convert\" onclick=\"convertToInteractive('df-91853076-963f-483c-a9ee-509a2d9e4961')\"\n",
              "              title=\"Convert this dataframe to an interactive table.\"\n",
              "              style=\"display:none;\">\n",
              "        \n",
              "  <svg xmlns=\"http://www.w3.org/2000/svg\" height=\"24px\"viewBox=\"0 0 24 24\"\n",
              "       width=\"24px\">\n",
              "    <path d=\"M0 0h24v24H0V0z\" fill=\"none\"/>\n",
              "    <path d=\"M18.56 5.44l.94 2.06.94-2.06 2.06-.94-2.06-.94-.94-2.06-.94 2.06-2.06.94zm-11 1L8.5 8.5l.94-2.06 2.06-.94-2.06-.94L8.5 2.5l-.94 2.06-2.06.94zm10 10l.94 2.06.94-2.06 2.06-.94-2.06-.94-.94-2.06-.94 2.06-2.06.94z\"/><path d=\"M17.41 7.96l-1.37-1.37c-.4-.4-.92-.59-1.43-.59-.52 0-1.04.2-1.43.59L10.3 9.45l-7.72 7.72c-.78.78-.78 2.05 0 2.83L4 21.41c.39.39.9.59 1.41.59.51 0 1.02-.2 1.41-.59l7.78-7.78 2.81-2.81c.8-.78.8-2.07 0-2.86zM5.41 20L4 18.59l7.72-7.72 1.47 1.35L5.41 20z\"/>\n",
              "  </svg>\n",
              "      </button>\n",
              "      \n",
              "  <style>\n",
              "    .colab-df-container {\n",
              "      display:flex;\n",
              "      flex-wrap:wrap;\n",
              "      gap: 12px;\n",
              "    }\n",
              "\n",
              "    .colab-df-convert {\n",
              "      background-color: #E8F0FE;\n",
              "      border: none;\n",
              "      border-radius: 50%;\n",
              "      cursor: pointer;\n",
              "      display: none;\n",
              "      fill: #1967D2;\n",
              "      height: 32px;\n",
              "      padding: 0 0 0 0;\n",
              "      width: 32px;\n",
              "    }\n",
              "\n",
              "    .colab-df-convert:hover {\n",
              "      background-color: #E2EBFA;\n",
              "      box-shadow: 0px 1px 2px rgba(60, 64, 67, 0.3), 0px 1px 3px 1px rgba(60, 64, 67, 0.15);\n",
              "      fill: #174EA6;\n",
              "    }\n",
              "\n",
              "    [theme=dark] .colab-df-convert {\n",
              "      background-color: #3B4455;\n",
              "      fill: #D2E3FC;\n",
              "    }\n",
              "\n",
              "    [theme=dark] .colab-df-convert:hover {\n",
              "      background-color: #434B5C;\n",
              "      box-shadow: 0px 1px 3px 1px rgba(0, 0, 0, 0.15);\n",
              "      filter: drop-shadow(0px 1px 2px rgba(0, 0, 0, 0.3));\n",
              "      fill: #FFFFFF;\n",
              "    }\n",
              "  </style>\n",
              "\n",
              "      <script>\n",
              "        const buttonEl =\n",
              "          document.querySelector('#df-91853076-963f-483c-a9ee-509a2d9e4961 button.colab-df-convert');\n",
              "        buttonEl.style.display =\n",
              "          google.colab.kernel.accessAllowed ? 'block' : 'none';\n",
              "\n",
              "        async function convertToInteractive(key) {\n",
              "          const element = document.querySelector('#df-91853076-963f-483c-a9ee-509a2d9e4961');\n",
              "          const dataTable =\n",
              "            await google.colab.kernel.invokeFunction('convertToInteractive',\n",
              "                                                     [key], {});\n",
              "          if (!dataTable) return;\n",
              "\n",
              "          const docLinkHtml = 'Like what you see? Visit the ' +\n",
              "            '<a target=\"_blank\" href=https://colab.research.google.com/notebooks/data_table.ipynb>data table notebook</a>'\n",
              "            + ' to learn more about interactive tables.';\n",
              "          element.innerHTML = '';\n",
              "          dataTable['output_type'] = 'display_data';\n",
              "          await google.colab.output.renderOutput(dataTable, element);\n",
              "          const docLink = document.createElement('div');\n",
              "          docLink.innerHTML = docLinkHtml;\n",
              "          element.appendChild(docLink);\n",
              "        }\n",
              "      </script>\n",
              "    </div>\n",
              "  </div>\n",
              "  "
            ]
          },
          "metadata": {},
          "execution_count": 3
        }
      ],
      "source": [
        "parrot.head()"
      ]
    },
    {
      "cell_type": "code",
      "execution_count": null,
      "metadata": {
        "colab": {
          "base_uri": "https://localhost:8080/",
          "height": 206
        },
        "id": "4t6A0UHYJIS1",
        "outputId": "28a9e6d9-b702-4025-bd0b-fe39653e6878"
      },
      "outputs": [
        {
          "output_type": "execute_result",
          "data": {
            "text/plain": [
              "   decimalLongitude  decimalLatitude\n",
              "0         11.293967         4.173409\n",
              "1          5.374550         6.292117\n",
              "2         15.102933         0.956955\n",
              "3         11.981012        -0.179144\n",
              "4         10.751233        -0.079009"
            ],
            "text/html": [
              "\n",
              "  <div id=\"df-b4346bc7-8ec9-430d-9e7e-e537b2724138\">\n",
              "    <div class=\"colab-df-container\">\n",
              "      <div>\n",
              "<style scoped>\n",
              "    .dataframe tbody tr th:only-of-type {\n",
              "        vertical-align: middle;\n",
              "    }\n",
              "\n",
              "    .dataframe tbody tr th {\n",
              "        vertical-align: top;\n",
              "    }\n",
              "\n",
              "    .dataframe thead th {\n",
              "        text-align: right;\n",
              "    }\n",
              "</style>\n",
              "<table border=\"1\" class=\"dataframe\">\n",
              "  <thead>\n",
              "    <tr style=\"text-align: right;\">\n",
              "      <th></th>\n",
              "      <th>decimalLongitude</th>\n",
              "      <th>decimalLatitude</th>\n",
              "    </tr>\n",
              "  </thead>\n",
              "  <tbody>\n",
              "    <tr>\n",
              "      <th>0</th>\n",
              "      <td>11.293967</td>\n",
              "      <td>4.173409</td>\n",
              "    </tr>\n",
              "    <tr>\n",
              "      <th>1</th>\n",
              "      <td>5.374550</td>\n",
              "      <td>6.292117</td>\n",
              "    </tr>\n",
              "    <tr>\n",
              "      <th>2</th>\n",
              "      <td>15.102933</td>\n",
              "      <td>0.956955</td>\n",
              "    </tr>\n",
              "    <tr>\n",
              "      <th>3</th>\n",
              "      <td>11.981012</td>\n",
              "      <td>-0.179144</td>\n",
              "    </tr>\n",
              "    <tr>\n",
              "      <th>4</th>\n",
              "      <td>10.751233</td>\n",
              "      <td>-0.079009</td>\n",
              "    </tr>\n",
              "  </tbody>\n",
              "</table>\n",
              "</div>\n",
              "      <button class=\"colab-df-convert\" onclick=\"convertToInteractive('df-b4346bc7-8ec9-430d-9e7e-e537b2724138')\"\n",
              "              title=\"Convert this dataframe to an interactive table.\"\n",
              "              style=\"display:none;\">\n",
              "        \n",
              "  <svg xmlns=\"http://www.w3.org/2000/svg\" height=\"24px\"viewBox=\"0 0 24 24\"\n",
              "       width=\"24px\">\n",
              "    <path d=\"M0 0h24v24H0V0z\" fill=\"none\"/>\n",
              "    <path d=\"M18.56 5.44l.94 2.06.94-2.06 2.06-.94-2.06-.94-.94-2.06-.94 2.06-2.06.94zm-11 1L8.5 8.5l.94-2.06 2.06-.94-2.06-.94L8.5 2.5l-.94 2.06-2.06.94zm10 10l.94 2.06.94-2.06 2.06-.94-2.06-.94-.94-2.06-.94 2.06-2.06.94z\"/><path d=\"M17.41 7.96l-1.37-1.37c-.4-.4-.92-.59-1.43-.59-.52 0-1.04.2-1.43.59L10.3 9.45l-7.72 7.72c-.78.78-.78 2.05 0 2.83L4 21.41c.39.39.9.59 1.41.59.51 0 1.02-.2 1.41-.59l7.78-7.78 2.81-2.81c.8-.78.8-2.07 0-2.86zM5.41 20L4 18.59l7.72-7.72 1.47 1.35L5.41 20z\"/>\n",
              "  </svg>\n",
              "      </button>\n",
              "      \n",
              "  <style>\n",
              "    .colab-df-container {\n",
              "      display:flex;\n",
              "      flex-wrap:wrap;\n",
              "      gap: 12px;\n",
              "    }\n",
              "\n",
              "    .colab-df-convert {\n",
              "      background-color: #E8F0FE;\n",
              "      border: none;\n",
              "      border-radius: 50%;\n",
              "      cursor: pointer;\n",
              "      display: none;\n",
              "      fill: #1967D2;\n",
              "      height: 32px;\n",
              "      padding: 0 0 0 0;\n",
              "      width: 32px;\n",
              "    }\n",
              "\n",
              "    .colab-df-convert:hover {\n",
              "      background-color: #E2EBFA;\n",
              "      box-shadow: 0px 1px 2px rgba(60, 64, 67, 0.3), 0px 1px 3px 1px rgba(60, 64, 67, 0.15);\n",
              "      fill: #174EA6;\n",
              "    }\n",
              "\n",
              "    [theme=dark] .colab-df-convert {\n",
              "      background-color: #3B4455;\n",
              "      fill: #D2E3FC;\n",
              "    }\n",
              "\n",
              "    [theme=dark] .colab-df-convert:hover {\n",
              "      background-color: #434B5C;\n",
              "      box-shadow: 0px 1px 3px 1px rgba(0, 0, 0, 0.15);\n",
              "      filter: drop-shadow(0px 1px 2px rgba(0, 0, 0, 0.3));\n",
              "      fill: #FFFFFF;\n",
              "    }\n",
              "  </style>\n",
              "\n",
              "      <script>\n",
              "        const buttonEl =\n",
              "          document.querySelector('#df-b4346bc7-8ec9-430d-9e7e-e537b2724138 button.colab-df-convert');\n",
              "        buttonEl.style.display =\n",
              "          google.colab.kernel.accessAllowed ? 'block' : 'none';\n",
              "\n",
              "        async function convertToInteractive(key) {\n",
              "          const element = document.querySelector('#df-b4346bc7-8ec9-430d-9e7e-e537b2724138');\n",
              "          const dataTable =\n",
              "            await google.colab.kernel.invokeFunction('convertToInteractive',\n",
              "                                                     [key], {});\n",
              "          if (!dataTable) return;\n",
              "\n",
              "          const docLinkHtml = 'Like what you see? Visit the ' +\n",
              "            '<a target=\"_blank\" href=https://colab.research.google.com/notebooks/data_table.ipynb>data table notebook</a>'\n",
              "            + ' to learn more about interactive tables.';\n",
              "          element.innerHTML = '';\n",
              "          dataTable['output_type'] = 'display_data';\n",
              "          await google.colab.output.renderOutput(dataTable, element);\n",
              "          const docLink = document.createElement('div');\n",
              "          docLink.innerHTML = docLinkHtml;\n",
              "          element.appendChild(docLink);\n",
              "        }\n",
              "      </script>\n",
              "    </div>\n",
              "  </div>\n",
              "  "
            ]
          },
          "metadata": {},
          "execution_count": 4
        }
      ],
      "source": [
        "parrot.dtypes\n",
        "parrot.select_dtypes(\"float64\").head()"
      ]
    },
    {
      "cell_type": "markdown",
      "metadata": {
        "id": "IVxzN79_JUQu"
      },
      "source": [
        "**Interface R with Python**"
      ]
    },
    {
      "cell_type": "code",
      "execution_count": null,
      "metadata": {
        "id": "HyPbOy4rJN68"
      },
      "outputs": [],
      "source": [
        "%load_ext rpy2.ipython"
      ]
    },
    {
      "cell_type": "code",
      "execution_count": null,
      "metadata": {
        "colab": {
          "base_uri": "https://localhost:8080/"
        },
        "id": "huPD_8nnK-u6",
        "outputId": "2769bcff-a034-4379-b948-d17e3eda8474"
      },
      "outputs": [
        {
          "output_type": "stream",
          "name": "stderr",
          "text": [
            "R[write to console]: Installing package into ‘/usr/local/lib/R/site-library’\n",
            "(as ‘lib’ is unspecified)\n",
            "\n",
            "R[write to console]: also installing the dependency ‘sp’\n",
            "\n",
            "\n",
            "R[write to console]: trying URL 'https://cran.rstudio.com/src/contrib/sp_1.4-6.tar.gz'\n",
            "\n",
            "R[write to console]: Content type 'application/x-gzip'\n",
            "R[write to console]:  length 1423843 bytes (1.4 MB)\n",
            "\n",
            "R[write to console]: =\n",
            "R[write to console]: =\n",
            "R[write to console]: =\n",
            "R[write to console]: =\n",
            "R[write to console]: =\n",
            "R[write to console]: =\n",
            "R[write to console]: =\n",
            "R[write to console]: =\n",
            "R[write to console]: =\n",
            "R[write to console]: =\n",
            "R[write to console]: =\n",
            "R[write to console]: =\n",
            "R[write to console]: =\n",
            "R[write to console]: =\n",
            "R[write to console]: =\n",
            "R[write to console]: =\n",
            "R[write to console]: =\n",
            "R[write to console]: =\n",
            "R[write to console]: =\n",
            "R[write to console]: =\n",
            "R[write to console]: =\n",
            "R[write to console]: =\n",
            "R[write to console]: =\n",
            "R[write to console]: =\n",
            "R[write to console]: =\n",
            "R[write to console]: =\n",
            "R[write to console]: =\n",
            "R[write to console]: =\n",
            "R[write to console]: =\n",
            "R[write to console]: =\n",
            "R[write to console]: =\n",
            "R[write to console]: =\n",
            "R[write to console]: =\n",
            "R[write to console]: =\n",
            "R[write to console]: =\n",
            "R[write to console]: =\n",
            "R[write to console]: =\n",
            "R[write to console]: =\n",
            "R[write to console]: =\n",
            "R[write to console]: =\n",
            "R[write to console]: =\n",
            "R[write to console]: =\n",
            "R[write to console]: =\n",
            "R[write to console]: =\n",
            "R[write to console]: =\n",
            "R[write to console]: =\n",
            "R[write to console]: =\n",
            "R[write to console]: =\n",
            "R[write to console]: =\n",
            "R[write to console]: =\n",
            "R[write to console]: \n",
            "\n",
            "R[write to console]: downloaded 1.4 MB\n",
            "\n",
            "\n",
            "R[write to console]: trying URL 'https://cran.rstudio.com/src/contrib/maptools_1.1-3.tar.gz'\n",
            "\n",
            "R[write to console]: Content type 'application/x-gzip'\n",
            "R[write to console]:  length 1643257 bytes (1.6 MB)\n",
            "\n",
            "R[write to console]: =\n",
            "R[write to console]: =\n",
            "R[write to console]: =\n",
            "R[write to console]: =\n",
            "R[write to console]: =\n",
            "R[write to console]: =\n",
            "R[write to console]: =\n",
            "R[write to console]: =\n",
            "R[write to console]: =\n",
            "R[write to console]: =\n",
            "R[write to console]: =\n",
            "R[write to console]: =\n",
            "R[write to console]: =\n",
            "R[write to console]: =\n",
            "R[write to console]: =\n",
            "R[write to console]: =\n",
            "R[write to console]: =\n",
            "R[write to console]: =\n",
            "R[write to console]: =\n",
            "R[write to console]: =\n",
            "R[write to console]: =\n",
            "R[write to console]: =\n",
            "R[write to console]: =\n",
            "R[write to console]: =\n",
            "R[write to console]: =\n",
            "R[write to console]: =\n",
            "R[write to console]: =\n",
            "R[write to console]: =\n",
            "R[write to console]: =\n",
            "R[write to console]: =\n",
            "R[write to console]: =\n",
            "R[write to console]: =\n",
            "R[write to console]: =\n",
            "R[write to console]: =\n",
            "R[write to console]: =\n",
            "R[write to console]: =\n",
            "R[write to console]: =\n",
            "R[write to console]: =\n",
            "R[write to console]: =\n",
            "R[write to console]: =\n",
            "R[write to console]: =\n",
            "R[write to console]: =\n",
            "R[write to console]: =\n",
            "R[write to console]: =\n",
            "R[write to console]: =\n",
            "R[write to console]: =\n",
            "R[write to console]: =\n",
            "R[write to console]: =\n",
            "R[write to console]: =\n",
            "R[write to console]: =\n",
            "R[write to console]: \n",
            "\n",
            "R[write to console]: downloaded 1.6 MB\n",
            "\n",
            "\n",
            "R[write to console]: \n",
            "\n",
            "R[write to console]: \n",
            "R[write to console]: The downloaded source packages are in\n",
            "\t‘/tmp/RtmpjKVuvD/downloaded_packages’\n",
            "R[write to console]: \n",
            "R[write to console]: \n",
            "\n",
            "R[write to console]: Loading required package: sp\n",
            "\n",
            "R[write to console]: Checking rgeos availability: FALSE\n",
            "Please note that 'maptools' will be retired by the end of 2023,\n",
            "plan transition at your earliest convenience;\n",
            "some functionality will be moved to 'sp'.\n",
            " \tNote: when rgeos is not available, polygon geometry \tcomputations in maptools depend on gpclib,\n",
            " \twhich has a restricted licence. It is disabled by default;\n",
            " \tto enable gpclib, type gpclibPermit()\n",
            "\n"
          ]
        }
      ],
      "source": [
        "%%R\n",
        "\n",
        "install.packages('maptools', dependency = True)\n",
        "library('maptools')"
      ]
    },
    {
      "cell_type": "code",
      "execution_count": null,
      "metadata": {
        "colab": {
          "base_uri": "https://localhost:8080/"
        },
        "id": "zyrVVQ4ivk_K",
        "outputId": "38ef1bef-5bac-43c8-ec8b-de87bdcb9017"
      },
      "outputs": [
        {
          "output_type": "stream",
          "name": "stderr",
          "text": [
            "R[write to console]: Installing package into ‘/usr/local/lib/R/site-library’\n",
            "(as ‘lib’ is unspecified)\n",
            "\n",
            "R[write to console]: trying URL 'https://cran.rstudio.com/src/contrib/rgdal_1.5-28.tar.gz'\n",
            "\n",
            "R[write to console]: Content type 'application/x-gzip'\n",
            "R[write to console]:  length 4511100 bytes (4.3 MB)\n",
            "\n",
            "R[write to console]: =\n",
            "R[write to console]: =\n",
            "R[write to console]: =\n",
            "R[write to console]: =\n",
            "R[write to console]: =\n",
            "R[write to console]: =\n",
            "R[write to console]: =\n",
            "R[write to console]: =\n",
            "R[write to console]: =\n",
            "R[write to console]: =\n",
            "R[write to console]: =\n",
            "R[write to console]: =\n",
            "R[write to console]: =\n",
            "R[write to console]: =\n",
            "R[write to console]: =\n",
            "R[write to console]: =\n",
            "R[write to console]: =\n",
            "R[write to console]: =\n",
            "R[write to console]: =\n",
            "R[write to console]: =\n",
            "R[write to console]: =\n",
            "R[write to console]: =\n",
            "R[write to console]: =\n",
            "R[write to console]: =\n",
            "R[write to console]: =\n",
            "R[write to console]: =\n",
            "R[write to console]: =\n",
            "R[write to console]: =\n",
            "R[write to console]: =\n",
            "R[write to console]: =\n",
            "R[write to console]: =\n",
            "R[write to console]: =\n",
            "R[write to console]: =\n",
            "R[write to console]: =\n",
            "R[write to console]: =\n",
            "R[write to console]: =\n",
            "R[write to console]: =\n",
            "R[write to console]: =\n",
            "R[write to console]: =\n",
            "R[write to console]: =\n",
            "R[write to console]: =\n",
            "R[write to console]: =\n",
            "R[write to console]: =\n",
            "R[write to console]: =\n",
            "R[write to console]: =\n",
            "R[write to console]: =\n",
            "R[write to console]: =\n",
            "R[write to console]: =\n",
            "R[write to console]: =\n",
            "R[write to console]: =\n",
            "R[write to console]: \n",
            "\n",
            "R[write to console]: downloaded 4.3 MB\n",
            "\n",
            "\n",
            "R[write to console]: \n",
            "\n",
            "R[write to console]: \n",
            "R[write to console]: The downloaded source packages are in\n",
            "\t‘/tmp/RtmpjKVuvD/downloaded_packages’\n",
            "R[write to console]: \n",
            "R[write to console]: \n",
            "\n",
            "R[write to console]: Please note that rgdal will be retired by the end of 2023,\n",
            "plan transition to sf/stars/terra functions using GDAL and PROJ\n",
            "at your earliest convenience.\n",
            "\n",
            "rgdal: version: 1.5-28, (SVN revision 1158)\n",
            "Geospatial Data Abstraction Library extensions to R successfully loaded\n",
            "Loaded GDAL runtime: GDAL 2.2.3, released 2017/11/20\n",
            "Path to GDAL shared files: /usr/share/gdal/2.2\n",
            "GDAL binary built with GEOS: TRUE \n",
            "Loaded PROJ runtime: Rel. 4.9.3, 15 August 2016, [PJ_VERSION: 493]\n",
            "Path to PROJ shared files: (autodetected)\n",
            "Linking to sp version:1.4-6\n",
            "\n"
          ]
        }
      ],
      "source": [
        "%%R\n",
        "install.packages(\"rgdal\", dependency = True)\n",
        "library(\"rgdal\")"
      ]
    },
    {
      "cell_type": "code",
      "execution_count": null,
      "metadata": {
        "colab": {
          "base_uri": "https://localhost:8080/"
        },
        "id": "ZkrDJCEJJ6M2",
        "outputId": "63fb5c9d-0df2-4941-f915-04089365f120"
      },
      "outputs": [
        {
          "output_type": "stream",
          "name": "stderr",
          "text": [
            "R[write to console]: Installing package into ‘/usr/local/lib/R/site-library’\n",
            "(as ‘lib’ is unspecified)\n",
            "\n",
            "R[write to console]: also installing the dependencies ‘raster’, ‘terra’\n",
            "\n",
            "\n",
            "R[write to console]: trying URL 'https://cran.rstudio.com/src/contrib/raster_3.5-15.tar.gz'\n",
            "\n",
            "R[write to console]: Content type 'application/x-gzip'\n",
            "R[write to console]:  length 580594 bytes (566 KB)\n",
            "\n",
            "R[write to console]: =\n",
            "R[write to console]: =\n",
            "R[write to console]: =\n",
            "R[write to console]: =\n",
            "R[write to console]: =\n",
            "R[write to console]: =\n",
            "R[write to console]: =\n",
            "R[write to console]: =\n",
            "R[write to console]: =\n",
            "R[write to console]: =\n",
            "R[write to console]: =\n",
            "R[write to console]: =\n",
            "R[write to console]: =\n",
            "R[write to console]: =\n",
            "R[write to console]: =\n",
            "R[write to console]: =\n",
            "R[write to console]: =\n",
            "R[write to console]: =\n",
            "R[write to console]: =\n",
            "R[write to console]: =\n",
            "R[write to console]: =\n",
            "R[write to console]: =\n",
            "R[write to console]: =\n",
            "R[write to console]: =\n",
            "R[write to console]: =\n",
            "R[write to console]: =\n",
            "R[write to console]: =\n",
            "R[write to console]: =\n",
            "R[write to console]: =\n",
            "R[write to console]: =\n",
            "R[write to console]: =\n",
            "R[write to console]: =\n",
            "R[write to console]: =\n",
            "R[write to console]: =\n",
            "R[write to console]: =\n",
            "R[write to console]: =\n",
            "R[write to console]: =\n",
            "R[write to console]: =\n",
            "R[write to console]: =\n",
            "R[write to console]: =\n",
            "R[write to console]: =\n",
            "R[write to console]: =\n",
            "R[write to console]: =\n",
            "R[write to console]: =\n",
            "R[write to console]: =\n",
            "R[write to console]: =\n",
            "R[write to console]: =\n",
            "R[write to console]: =\n",
            "R[write to console]: =\n",
            "R[write to console]: =\n",
            "R[write to console]: \n",
            "\n",
            "R[write to console]: downloaded 566 KB\n",
            "\n",
            "\n",
            "R[write to console]: trying URL 'https://cran.rstudio.com/src/contrib/terra_1.5-21.tar.gz'\n",
            "\n",
            "R[write to console]: Content type 'application/x-gzip'\n",
            "R[write to console]:  length 636954 bytes (622 KB)\n",
            "\n",
            "R[write to console]: =\n",
            "R[write to console]: =\n",
            "R[write to console]: =\n",
            "R[write to console]: =\n",
            "R[write to console]: =\n",
            "R[write to console]: =\n",
            "R[write to console]: =\n",
            "R[write to console]: =\n",
            "R[write to console]: =\n",
            "R[write to console]: =\n",
            "R[write to console]: =\n",
            "R[write to console]: =\n",
            "R[write to console]: =\n",
            "R[write to console]: =\n",
            "R[write to console]: =\n",
            "R[write to console]: =\n",
            "R[write to console]: =\n",
            "R[write to console]: =\n",
            "R[write to console]: =\n",
            "R[write to console]: =\n",
            "R[write to console]: =\n",
            "R[write to console]: =\n",
            "R[write to console]: =\n",
            "R[write to console]: =\n",
            "R[write to console]: =\n",
            "R[write to console]: =\n",
            "R[write to console]: =\n",
            "R[write to console]: =\n",
            "R[write to console]: =\n",
            "R[write to console]: =\n",
            "R[write to console]: =\n",
            "R[write to console]: =\n",
            "R[write to console]: =\n",
            "R[write to console]: =\n",
            "R[write to console]: =\n",
            "R[write to console]: =\n",
            "R[write to console]: =\n",
            "R[write to console]: =\n",
            "R[write to console]: =\n",
            "R[write to console]: =\n",
            "R[write to console]: =\n",
            "R[write to console]: =\n",
            "R[write to console]: =\n",
            "R[write to console]: =\n",
            "R[write to console]: =\n",
            "R[write to console]: =\n",
            "R[write to console]: =\n",
            "R[write to console]: =\n",
            "R[write to console]: =\n",
            "R[write to console]: =\n",
            "R[write to console]: \n",
            "\n",
            "R[write to console]: downloaded 622 KB\n",
            "\n",
            "\n",
            "R[write to console]: trying URL 'https://cran.rstudio.com/src/contrib/dismo_1.3-5.tar.gz'\n",
            "\n",
            "R[write to console]: Content type 'application/x-gzip'\n",
            "R[write to console]:  length 1214134 bytes (1.2 MB)\n",
            "\n",
            "R[write to console]: =\n",
            "R[write to console]: =\n",
            "R[write to console]: =\n",
            "R[write to console]: =\n",
            "R[write to console]: =\n",
            "R[write to console]: =\n",
            "R[write to console]: =\n",
            "R[write to console]: =\n",
            "R[write to console]: =\n",
            "R[write to console]: =\n",
            "R[write to console]: =\n",
            "R[write to console]: =\n",
            "R[write to console]: =\n",
            "R[write to console]: =\n",
            "R[write to console]: =\n",
            "R[write to console]: =\n",
            "R[write to console]: =\n",
            "R[write to console]: =\n",
            "R[write to console]: =\n",
            "R[write to console]: =\n",
            "R[write to console]: =\n",
            "R[write to console]: =\n",
            "R[write to console]: =\n",
            "R[write to console]: =\n",
            "R[write to console]: =\n",
            "R[write to console]: =\n",
            "R[write to console]: =\n",
            "R[write to console]: =\n",
            "R[write to console]: =\n",
            "R[write to console]: =\n",
            "R[write to console]: =\n",
            "R[write to console]: =\n",
            "R[write to console]: =\n",
            "R[write to console]: =\n",
            "R[write to console]: =\n",
            "R[write to console]: =\n",
            "R[write to console]: =\n",
            "R[write to console]: =\n",
            "R[write to console]: =\n",
            "R[write to console]: =\n",
            "R[write to console]: =\n",
            "R[write to console]: =\n",
            "R[write to console]: =\n",
            "R[write to console]: =\n",
            "R[write to console]: =\n",
            "R[write to console]: =\n",
            "R[write to console]: =\n",
            "R[write to console]: =\n",
            "R[write to console]: =\n",
            "R[write to console]: =\n",
            "R[write to console]: \n",
            "\n",
            "R[write to console]: downloaded 1.2 MB\n",
            "\n",
            "\n",
            "R[write to console]: \n",
            "\n",
            "R[write to console]: \n",
            "R[write to console]: The downloaded source packages are in\n",
            "\t‘/tmp/RtmpjKVuvD/downloaded_packages’\n",
            "R[write to console]: \n",
            "R[write to console]: \n",
            "\n",
            "R[write to console]: Loading required package: raster\n",
            "\n"
          ]
        }
      ],
      "source": [
        "%%R\n",
        "install.packages('dismo', dependency = True)\n",
        "library(\"dismo\")"
      ]
    },
    {
      "cell_type": "markdown",
      "metadata": {
        "id": "YG_oSqOEQvoO"
      },
      "source": [
        "**Select the species data needed for modelling**"
      ]
    },
    {
      "cell_type": "code",
      "execution_count": null,
      "metadata": {
        "id": "-5WKfwWiPF9a"
      },
      "outputs": [],
      "source": [
        "parrot_df = parrot[['species', 'decimalLatitude', 'decimalLongitude']]"
      ]
    },
    {
      "cell_type": "code",
      "execution_count": null,
      "metadata": {
        "colab": {
          "base_uri": "https://localhost:8080/",
          "height": 238
        },
        "id": "219javeORRzD",
        "outputId": "8091f099-3bba-4aa1-dfaa-44fb6d109340"
      },
      "outputs": [
        {
          "output_type": "execute_result",
          "data": {
            "text/plain": [
              "               species  decimalLatitude  decimalLongitude\n",
              "0  Psittacus erithacus         4.173409         11.293967\n",
              "1  Psittacus erithacus         6.292117          5.374550\n",
              "2  Psittacus erithacus         0.956955         15.102933\n",
              "3  Psittacus erithacus        -0.179144         11.981012\n",
              "4  Psittacus erithacus        -0.079009         10.751233\n",
              "5  Psittacus erithacus         0.397746         30.407880"
            ],
            "text/html": [
              "\n",
              "  <div id=\"df-49a101df-5241-4b5a-abd0-891cee1ac266\">\n",
              "    <div class=\"colab-df-container\">\n",
              "      <div>\n",
              "<style scoped>\n",
              "    .dataframe tbody tr th:only-of-type {\n",
              "        vertical-align: middle;\n",
              "    }\n",
              "\n",
              "    .dataframe tbody tr th {\n",
              "        vertical-align: top;\n",
              "    }\n",
              "\n",
              "    .dataframe thead th {\n",
              "        text-align: right;\n",
              "    }\n",
              "</style>\n",
              "<table border=\"1\" class=\"dataframe\">\n",
              "  <thead>\n",
              "    <tr style=\"text-align: right;\">\n",
              "      <th></th>\n",
              "      <th>species</th>\n",
              "      <th>decimalLatitude</th>\n",
              "      <th>decimalLongitude</th>\n",
              "    </tr>\n",
              "  </thead>\n",
              "  <tbody>\n",
              "    <tr>\n",
              "      <th>0</th>\n",
              "      <td>Psittacus erithacus</td>\n",
              "      <td>4.173409</td>\n",
              "      <td>11.293967</td>\n",
              "    </tr>\n",
              "    <tr>\n",
              "      <th>1</th>\n",
              "      <td>Psittacus erithacus</td>\n",
              "      <td>6.292117</td>\n",
              "      <td>5.374550</td>\n",
              "    </tr>\n",
              "    <tr>\n",
              "      <th>2</th>\n",
              "      <td>Psittacus erithacus</td>\n",
              "      <td>0.956955</td>\n",
              "      <td>15.102933</td>\n",
              "    </tr>\n",
              "    <tr>\n",
              "      <th>3</th>\n",
              "      <td>Psittacus erithacus</td>\n",
              "      <td>-0.179144</td>\n",
              "      <td>11.981012</td>\n",
              "    </tr>\n",
              "    <tr>\n",
              "      <th>4</th>\n",
              "      <td>Psittacus erithacus</td>\n",
              "      <td>-0.079009</td>\n",
              "      <td>10.751233</td>\n",
              "    </tr>\n",
              "    <tr>\n",
              "      <th>5</th>\n",
              "      <td>Psittacus erithacus</td>\n",
              "      <td>0.397746</td>\n",
              "      <td>30.407880</td>\n",
              "    </tr>\n",
              "  </tbody>\n",
              "</table>\n",
              "</div>\n",
              "      <button class=\"colab-df-convert\" onclick=\"convertToInteractive('df-49a101df-5241-4b5a-abd0-891cee1ac266')\"\n",
              "              title=\"Convert this dataframe to an interactive table.\"\n",
              "              style=\"display:none;\">\n",
              "        \n",
              "  <svg xmlns=\"http://www.w3.org/2000/svg\" height=\"24px\"viewBox=\"0 0 24 24\"\n",
              "       width=\"24px\">\n",
              "    <path d=\"M0 0h24v24H0V0z\" fill=\"none\"/>\n",
              "    <path d=\"M18.56 5.44l.94 2.06.94-2.06 2.06-.94-2.06-.94-.94-2.06-.94 2.06-2.06.94zm-11 1L8.5 8.5l.94-2.06 2.06-.94-2.06-.94L8.5 2.5l-.94 2.06-2.06.94zm10 10l.94 2.06.94-2.06 2.06-.94-2.06-.94-.94-2.06-.94 2.06-2.06.94z\"/><path d=\"M17.41 7.96l-1.37-1.37c-.4-.4-.92-.59-1.43-.59-.52 0-1.04.2-1.43.59L10.3 9.45l-7.72 7.72c-.78.78-.78 2.05 0 2.83L4 21.41c.39.39.9.59 1.41.59.51 0 1.02-.2 1.41-.59l7.78-7.78 2.81-2.81c.8-.78.8-2.07 0-2.86zM5.41 20L4 18.59l7.72-7.72 1.47 1.35L5.41 20z\"/>\n",
              "  </svg>\n",
              "      </button>\n",
              "      \n",
              "  <style>\n",
              "    .colab-df-container {\n",
              "      display:flex;\n",
              "      flex-wrap:wrap;\n",
              "      gap: 12px;\n",
              "    }\n",
              "\n",
              "    .colab-df-convert {\n",
              "      background-color: #E8F0FE;\n",
              "      border: none;\n",
              "      border-radius: 50%;\n",
              "      cursor: pointer;\n",
              "      display: none;\n",
              "      fill: #1967D2;\n",
              "      height: 32px;\n",
              "      padding: 0 0 0 0;\n",
              "      width: 32px;\n",
              "    }\n",
              "\n",
              "    .colab-df-convert:hover {\n",
              "      background-color: #E2EBFA;\n",
              "      box-shadow: 0px 1px 2px rgba(60, 64, 67, 0.3), 0px 1px 3px 1px rgba(60, 64, 67, 0.15);\n",
              "      fill: #174EA6;\n",
              "    }\n",
              "\n",
              "    [theme=dark] .colab-df-convert {\n",
              "      background-color: #3B4455;\n",
              "      fill: #D2E3FC;\n",
              "    }\n",
              "\n",
              "    [theme=dark] .colab-df-convert:hover {\n",
              "      background-color: #434B5C;\n",
              "      box-shadow: 0px 1px 3px 1px rgba(0, 0, 0, 0.15);\n",
              "      filter: drop-shadow(0px 1px 2px rgba(0, 0, 0, 0.3));\n",
              "      fill: #FFFFFF;\n",
              "    }\n",
              "  </style>\n",
              "\n",
              "      <script>\n",
              "        const buttonEl =\n",
              "          document.querySelector('#df-49a101df-5241-4b5a-abd0-891cee1ac266 button.colab-df-convert');\n",
              "        buttonEl.style.display =\n",
              "          google.colab.kernel.accessAllowed ? 'block' : 'none';\n",
              "\n",
              "        async function convertToInteractive(key) {\n",
              "          const element = document.querySelector('#df-49a101df-5241-4b5a-abd0-891cee1ac266');\n",
              "          const dataTable =\n",
              "            await google.colab.kernel.invokeFunction('convertToInteractive',\n",
              "                                                     [key], {});\n",
              "          if (!dataTable) return;\n",
              "\n",
              "          const docLinkHtml = 'Like what you see? Visit the ' +\n",
              "            '<a target=\"_blank\" href=https://colab.research.google.com/notebooks/data_table.ipynb>data table notebook</a>'\n",
              "            + ' to learn more about interactive tables.';\n",
              "          element.innerHTML = '';\n",
              "          dataTable['output_type'] = 'display_data';\n",
              "          await google.colab.output.renderOutput(dataTable, element);\n",
              "          const docLink = document.createElement('div');\n",
              "          docLink.innerHTML = docLinkHtml;\n",
              "          element.appendChild(docLink);\n",
              "        }\n",
              "      </script>\n",
              "    </div>\n",
              "  </div>\n",
              "  "
            ]
          },
          "metadata": {},
          "execution_count": 10
        }
      ],
      "source": [
        "%R -i parrot_df #convert python object to R\n",
        "%R head(parrot_df)\n"
      ]
    },
    {
      "cell_type": "code",
      "execution_count": null,
      "metadata": {
        "id": "dVfObjlmRvMe"
      },
      "outputs": [],
      "source": [
        "#%R -o parrot #convert R object to Python\n",
        "#parrot_df.head()\n"
      ]
    },
    {
      "cell_type": "code",
      "execution_count": null,
      "metadata": {
        "colab": {
          "base_uri": "https://localhost:8080/"
        },
        "id": "5YSpyhkCmfKK",
        "outputId": "d0ff88c5-b23f-401d-d69a-18152e5c3fd4"
      },
      "outputs": [
        {
          "output_type": "stream",
          "name": "stdout",
          "text": [
            "False    1499\n",
            "Name: species, dtype: int64\n",
            "False    1499\n",
            "Name: decimalLatitude, dtype: int64\n",
            "False    1499\n",
            "Name: decimalLongitude, dtype: int64\n"
          ]
        }
      ],
      "source": [
        "print(parrot_df.species.isnull().value_counts())\n",
        "print(parrot_df.decimalLatitude.isnull().value_counts())\n",
        "print(parrot_df.decimalLongitude.isnull().value_counts())\n",
        "\n"
      ]
    },
    {
      "cell_type": "code",
      "execution_count": null,
      "metadata": {
        "id": "Jveypcn_rZjV"
      },
      "outputs": [],
      "source": [
        "#Retrieve rows that have at least one missing value in any of its columns\n",
        "#parrot_df[parrot_df.isna().any(axis=1)]"
      ]
    },
    {
      "cell_type": "markdown",
      "metadata": {
        "id": "k33vhU20r_xv"
      },
      "source": [
        "**Removing the NAs**"
      ]
    },
    {
      "cell_type": "code",
      "execution_count": null,
      "metadata": {
        "id": "YImJLo11rZhH"
      },
      "outputs": [],
      "source": [
        "#parrot_df_clean = parrot_df.dropna(subset=[\"decimalLatitude\"]) #Deletes records with NAs"
      ]
    },
    {
      "cell_type": "code",
      "execution_count": null,
      "metadata": {
        "id": "aq9ZmDLWndc7"
      },
      "outputs": [],
      "source": [
        "#print(parrot_df_clean.species.isnull().value_counts())\n",
        "#print(parrot_df_clean.decimalLatitude.isnull().value_counts())\n",
        "#print(parrot_df_clean.decimalLongitude.isnull().value_counts())"
      ]
    },
    {
      "cell_type": "markdown",
      "metadata": {
        "id": "Hxn4MvGqwt0a"
      },
      "source": [
        "**Alternatively, one could remove the NAs like this**"
      ]
    },
    {
      "cell_type": "code",
      "execution_count": null,
      "metadata": {
        "id": "1-Wj96MIwC-9"
      },
      "outputs": [],
      "source": [
        "#nanRows = parrot_df[ ~ ( parrot_df.decimalLatitude.notnull() & parrot_df.decimalLongitude.notnull() ) ]\n",
        "#print('Number of nan rows:' + str(len(nanRows)))\n",
        "#nanRows.head()"
      ]
    },
    {
      "cell_type": "code",
      "execution_count": null,
      "metadata": {
        "id": "ip0O-eelvq6X"
      },
      "outputs": [],
      "source": [
        "#ParrotWithCoordinates = parrot_df[ parrot_df.decimalLatitude.notnull() & parrot_df.decimalLongitude.notnull() ]\n",
        "#print('Rows remaining:' + str(len(ParrotWithCoordinates)))\n",
        "#ParrotWithCoordinates\n"
      ]
    },
    {
      "cell_type": "code",
      "execution_count": null,
      "metadata": {
        "colab": {
          "base_uri": "https://localhost:8080/"
        },
        "id": "_gbKL7Z7w5z2",
        "outputId": "3c78381e-e8e3-46e0-fe59-bd4d8b756ebc"
      },
      "outputs": [
        {
          "output_type": "stream",
          "name": "stdout",
          "text": [
            "0    False\n",
            "1    False\n",
            "2    False\n",
            "3    False\n",
            "4    False\n",
            "dtype: bool\n"
          ]
        },
        {
          "output_type": "execute_result",
          "data": {
            "text/plain": [
              "False    1499\n",
              "dtype: int64"
            ]
          },
          "metadata": {},
          "execution_count": 12
        }
      ],
      "source": [
        "isDuplicate = parrot_df.duplicated(keep = 'first')\n",
        "print(isDuplicate.head())\n",
        "isDuplicate.value_counts()\n"
      ]
    },
    {
      "cell_type": "code",
      "execution_count": null,
      "metadata": {
        "id": "4-W4O8jS14bY"
      },
      "outputs": [],
      "source": [
        "#parrot_ndp = parrot_df_clean.drop_duplicates(subset=['species', 'decimalLatitude', 'decimalLongitude'], keep='first')"
      ]
    },
    {
      "cell_type": "code",
      "execution_count": null,
      "metadata": {
        "id": "IlLkOGq53Xio"
      },
      "outputs": [],
      "source": [
        "#parrot_ndp = parrot_ndp.drop(parrot_ndp.index[2006]) #remove the row containing 0 info"
      ]
    },
    {
      "cell_type": "code",
      "execution_count": null,
      "metadata": {
        "id": "5OSEDLqYt1Qr"
      },
      "outputs": [],
      "source": [
        "%R -i parrot_df"
      ]
    },
    {
      "cell_type": "code",
      "execution_count": null,
      "metadata": {
        "id": "W0yFSSGs6Hjr"
      },
      "outputs": [],
      "source": [
        "# geographic extent\n",
        "\n",
        "%%R\n",
        "max.lat <- ceiling(max(parrot_df$decimalLatitude))\n",
        "min.lat <- floor(min(parrot_df$decimalLatitude))\n",
        "max.lon <- ceiling(max(parrot_df$decimalLongitude))\n",
        "min.lon <- floor(min(parrot_df$decimalLongitude))\n",
        "geographic.extent <- extent(x = c(min.lon, max.lon, min.lat, max.lat))\n"
      ]
    },
    {
      "cell_type": "code",
      "execution_count": null,
      "metadata": {
        "colab": {
          "base_uri": "https://localhost:8080/"
        },
        "id": "rkp14wRB7Lrz",
        "outputId": "71c1e4cf-e387-4e6c-e481-5512a3b021e2"
      },
      "outputs": [
        {
          "output_type": "stream",
          "name": "stdout",
          "text": [
            "class      : Extent \n",
            "xmin       : -9 \n",
            "xmax       : 40 \n",
            "ymin       : -13 \n",
            "ymax       : 11 \n"
          ]
        },
        {
          "output_type": "execute_result",
          "data": {
            "text/plain": [
              "<rpy2.robjects.methods.RS4 object at 0x7f8de3882cd0> [RTYPES.S4SXP]\n",
              "R classes: ('Extent',)"
            ]
          },
          "metadata": {},
          "execution_count": 15
        }
      ],
      "source": [
        "%R print(geographic.extent)"
      ]
    },
    {
      "cell_type": "code",
      "execution_count": null,
      "metadata": {
        "colab": {
          "base_uri": "https://localhost:8080/",
          "height": 57
        },
        "id": "Y5G-9fDHK0db",
        "outputId": "fb95859d-6092-4e45-9292-6e56b1e80a34"
      },
      "outputs": [
        {
          "output_type": "execute_result",
          "data": {
            "text/plain": [
              "<rpy2.robjects.vectors.StrVector object at 0x7f8dcf18fd20> [RTYPES.STRSXP]\n",
              "R classes: ('character',)\n",
              "['wrld_simpl']"
            ],
            "text/html": [
              "\n",
              "        <span>StrVector with 1 elements.</span>\n",
              "        <table>\n",
              "        <tbody>\n",
              "          <tr>\n",
              "          \n",
              "            <td>\n",
              "            'wrld_simpl'\n",
              "            </td>\n",
              "          \n",
              "          </tr>\n",
              "        </tbody>\n",
              "        </table>\n",
              "        "
            ]
          },
          "metadata": {},
          "execution_count": 16
        }
      ],
      "source": [
        "%R data(wrld_simpl)"
      ]
    },
    {
      "cell_type": "code",
      "execution_count": null,
      "metadata": {
        "id": "eEKP5hRQ6EhY"
      },
      "outputs": [],
      "source": [
        "\n",
        "#%R plot(wrld_simpl, xlim = c(-9, 40), ylim = c(-13, 11),axes = TRUE, col = \"grey95\")\n",
        "#%R point(x = parrot_df$decimalLongitude, y = parrot_df$decimalLatitude, col = \"red\", pch = 20, cex = 0.75)\n",
        "#%R box()"
      ]
    },
    {
      "cell_type": "code",
      "execution_count": null,
      "metadata": {
        "id": "UwJUAgt0OPwd"
      },
      "outputs": [],
      "source": [
        "#!pip install geopandas"
      ]
    },
    {
      "cell_type": "code",
      "execution_count": null,
      "metadata": {
        "id": "tIUUHnZvxa9Q",
        "colab": {
          "base_uri": "https://localhost:8080/",
          "height": 57
        },
        "outputId": "79fb6e77-85e3-4534-aa30-899f4235d9b6"
      },
      "outputs": [
        {
          "output_type": "execute_result",
          "data": {
            "text/plain": [
              "<rpy2.robjects.vectors.BoolVector object at 0x7f8de37e9c80> [RTYPES.LGLSXP]\n",
              "R classes: ('logical',)\n",
              "[       1]"
            ],
            "text/html": [
              "\n",
              "        <span>BoolVector with 1 elements.</span>\n",
              "        <table>\n",
              "        <tbody>\n",
              "          <tr>\n",
              "          \n",
              "            <td>\n",
              "                   1\n",
              "            </td>\n",
              "          \n",
              "          </tr>\n",
              "        </tbody>\n",
              "        </table>\n",
              "        "
            ]
          },
          "metadata": {},
          "execution_count": 17
        }
      ],
      "source": [
        "%R  if(!dir.exists(\"bioclim_data\")){ dir.create(\"bioclim_data\", recursive = TRUE)}\n"
      ]
    },
    {
      "cell_type": "code",
      "execution_count": null,
      "metadata": {
        "colab": {
          "base_uri": "https://localhost:8080/"
        },
        "id": "aAxUJSOY7r87",
        "outputId": "f66eaa24-4e1b-404d-bf58-d11757f8e0b9"
      },
      "outputs": [
        {
          "output_type": "stream",
          "name": "stderr",
          "text": [
            "R[write to console]: trying URL 'https://biogeo.ucdavis.edu/data/climate/worldclim/1_4/grid/cur/bio_2-5m_bil.zip'\n",
            "\n",
            "R[write to console]: Content type 'application/zip'\n",
            "R[write to console]:  length 129319755 bytes (123.3 MB)\n",
            "\n",
            "R[write to console]: =\n",
            "R[write to console]: =\n",
            "R[write to console]: =\n",
            "R[write to console]: =\n",
            "R[write to console]: =\n",
            "R[write to console]: =\n",
            "R[write to console]: =\n",
            "R[write to console]: =\n",
            "R[write to console]: =\n",
            "R[write to console]: =\n",
            "R[write to console]: =\n",
            "R[write to console]: =\n",
            "R[write to console]: =\n",
            "R[write to console]: =\n",
            "R[write to console]: =\n",
            "R[write to console]: =\n",
            "R[write to console]: =\n",
            "R[write to console]: =\n",
            "R[write to console]: =\n",
            "R[write to console]: =\n",
            "R[write to console]: =\n",
            "R[write to console]: =\n",
            "R[write to console]: =\n",
            "R[write to console]: =\n",
            "R[write to console]: =\n",
            "R[write to console]: =\n",
            "R[write to console]: =\n",
            "R[write to console]: =\n",
            "R[write to console]: =\n",
            "R[write to console]: =\n",
            "R[write to console]: =\n",
            "R[write to console]: =\n",
            "R[write to console]: =\n",
            "R[write to console]: =\n",
            "R[write to console]: =\n",
            "R[write to console]: =\n",
            "R[write to console]: =\n",
            "R[write to console]: =\n",
            "R[write to console]: =\n",
            "R[write to console]: =\n",
            "R[write to console]: =\n",
            "R[write to console]: =\n",
            "R[write to console]: =\n",
            "R[write to console]: =\n",
            "R[write to console]: =\n",
            "R[write to console]: =\n",
            "R[write to console]: =\n",
            "R[write to console]: =\n",
            "R[write to console]: =\n",
            "R[write to console]: =\n",
            "R[write to console]: \n",
            "\n",
            "R[write to console]: downloaded 123.3 MB\n",
            "\n",
            "\n"
          ]
        },
        {
          "output_type": "execute_result",
          "data": {
            "text/plain": [
              "<rpy2.robjects.methods.RS4 object at 0x7f8de381af00> [RTYPES.S4SXP]\n",
              "R classes: ('RasterStack',)"
            ]
          },
          "metadata": {},
          "execution_count": 18
        }
      ],
      "source": [
        "%R clim_data <- getData(name = \"worldclim\", var = \"bio\", res = 2.5, path = \"bioclim_data\",download = T)"
      ]
    },
    {
      "cell_type": "code",
      "execution_count": null,
      "metadata": {
        "id": "QhdinFtbkZWl"
      },
      "outputs": [],
      "source": [
        "%%R\n",
        "xmn <- -25.4\n",
        "xmx <- 63.5\n",
        "ymn <- -47\n",
        "ymx <- 37.6\n",
        "Africa_extent <- extent(x = c(xmn, xmx, ymn, ymx))\n"
      ]
    },
    {
      "cell_type": "code",
      "execution_count": null,
      "metadata": {
        "id": "xXV5AMmg79XP"
      },
      "outputs": [],
      "source": [
        "%%R\n",
        "\n",
        "clim_fc  <- crop(clim_data, Africa_extent)"
      ]
    },
    {
      "cell_type": "code",
      "execution_count": null,
      "metadata": {
        "id": "mWJOp_T285cv"
      },
      "outputs": [],
      "source": [
        "%%R\n",
        "predictors <- stack(clim_fc)"
      ]
    },
    {
      "cell_type": "code",
      "execution_count": null,
      "metadata": {
        "colab": {
          "base_uri": "https://localhost:8080/",
          "height": 497
        },
        "id": "j9brCOOJ9F31",
        "outputId": "0bc05811-2735-4b33-d81a-7b8eb03b10a6"
      },
      "outputs": [
        {
          "output_type": "display_data",
          "data": {
            "image/png": "[encoded data removed]"
          },
          "metadata": {}
        }
      ],
      "source": [
        "%%R\n",
        "plot(predictors)"
      ]
    },
    {
      "cell_type": "markdown",
      "metadata": {
        "id": "bChJ3xvJVC2i"
      },
      "source": [
        "**Generate Background Points**"
      ]
    },
    {
      "cell_type": "code",
      "execution_count": null,
      "metadata": {
        "id": "V14uuhGU-Ds5"
      },
      "outputs": [],
      "source": [
        "# Using the bioclim data files for sampling resolution\n",
        "\n",
        "%%R\n",
        "\n",
        "bil.files <- list.files(path = \"bioclim_data/wc2-5\", pattern = \"*.bil$\", full.names = TRUE)"
      ]
    },
    {
      "cell_type": "code",
      "execution_count": null,
      "metadata": {
        "id": "4HCSdNybVRyV"
      },
      "outputs": [],
      "source": [
        "%%R\n",
        "\n",
        "# Use one of the .bil files\n",
        "\n",
        "mask <- raster(bil.files[1])\n",
        "\n",
        "# Randomly sample points (same number as our observed points)\n",
        "background <- randomPoints(mask = mask, n = nrow(parrot_df), ext = Africa_extent, extf = 1.25)\n",
        "\n"
      ]
    },
    {
      "cell_type": "markdown",
      "metadata": {
        "id": "6R5RCc4yWQx2"
      },
      "source": [
        "**Join the Presence plus the pseudo-absence points together**\n"
      ]
    },
    {
      "cell_type": "code",
      "execution_count": null,
      "metadata": {
        "colab": {
          "base_uri": "https://localhost:8080/"
        },
        "id": "qpsg2tR_VRsw",
        "outputId": "be416394-a045-44e7-c8eb-ffe3d2ec9832"
      },
      "outputs": [
        {
          "output_type": "stream",
          "name": "stdout",
          "text": [
            "       x                y           \n",
            " Min.   :-36.27   Min.   :-33.5625  \n",
            " 1st Qu.: 12.81   1st Qu.:  0.5208  \n",
            " Median : 25.52   Median : 16.0625  \n",
            " Mean   : 26.17   Mean   : 13.8768  \n",
            " 3rd Qu.: 39.56   3rd Qu.: 28.3958  \n",
            " Max.   : 74.52   Max.   : 48.1042  \n"
          ]
        }
      ],
      "source": [
        "%%R\n",
        "bg_parrot <- data.frame(background)\n",
        "summary(bg_parrot)"
      ]
    },
    {
      "cell_type": "code",
      "execution_count": null,
      "metadata": {
        "id": "PTT497ieXF50"
      },
      "outputs": [],
      "source": [
        "%%R\n",
        "\n",
        "names(bg_parrot) <- c('decimalLongitude','decimalLatitude')\n",
        "bg_parrot$species <- 0\n",
        "summary(bg_parrot)\n",
        "\n",
        "bg_parrot <- bg_parrot[, c(\"decimalLongitude\", \"decimalLatitude\", \"species\")]"
      ]
    },
    {
      "cell_type": "code",
      "execution_count": null,
      "metadata": {
        "id": "UCWcN__KXUvF"
      },
      "outputs": [],
      "source": [
        "%%R\n",
        "parrot_sub <- parrot_df[, c(\"decimalLongitude\", \"decimalLatitude\")]\n",
        "parrot_sub$species <- 1 # turn the species to 1\n",
        "#parrot_sub\n"
      ]
    },
    {
      "cell_type": "code",
      "execution_count": null,
      "metadata": {
        "id": "mw-PsCdaXlu_"
      },
      "outputs": [],
      "source": [
        "\n",
        "%%R\n",
        "\n",
        "ParrotPA <- rbind(parrot_sub, bg_parrot)\n",
        "\n",
        "summary(ParrotPA)\n",
        "ParrotPA = data.frame(ParrotPA)\n"
      ]
    },
    {
      "cell_type": "code",
      "execution_count": null,
      "metadata": {
        "id": "_YMsvRsWcTMW"
      },
      "outputs": [],
      "source": [
        "%R -o ParrotPA #convert R object to Python"
      ]
    },
    {
      "cell_type": "code",
      "execution_count": null,
      "metadata": {
        "colab": {
          "base_uri": "https://localhost:8080/",
          "height": 86
        },
        "id": "erJ3gngidhs9",
        "outputId": "19c5cc2c-5931-413f-95e6-eae55c5a2f97"
      },
      "outputs": [
        {
          "output_type": "display_data",
          "data": {
            "text/plain": [
              "decimalLongitude    float64\n",
              "decimalLatitude     float64\n",
              "species               int64\n",
              "dtype: object"
            ]
          },
          "metadata": {}
        }
      ],
      "source": [
        "# converting 'species' from float to int\n",
        "\n",
        "ParrotPA['species'] = ParrotPA['species'].astype(int)\n",
        "\n",
        "# displaying the datatypes\n",
        "display(ParrotPA.dtypes)\n",
        "\n"
      ]
    },
    {
      "cell_type": "code",
      "execution_count": null,
      "metadata": {
        "id": "lKWMvvtudhq5"
      },
      "outputs": [],
      "source": [
        "%R -i ParrotPA #convert back to R object"
      ]
    },
    {
      "cell_type": "code",
      "execution_count": null,
      "metadata": {
        "colab": {
          "base_uri": "https://localhost:8080/"
        },
        "id": "iof4YTtUi59s",
        "outputId": "11e2da16-3729-4538-822e-70362309ed0d"
      },
      "outputs": [
        {
          "output_type": "stream",
          "name": "stdout",
          "text": [
            "  decimalLongitude decimalLatitude species\n",
            "0         11.29397        4.173409       1\n",
            "1          5.37455        6.292117       1\n",
            "2         15.10293        0.956955       1\n",
            "3         11.98101       -0.179144       1\n",
            "4         10.75123       -0.079009       1\n",
            "5         30.40788        0.397746       1\n"
          ]
        }
      ],
      "source": [
        "%%R\n",
        "head(ParrotPA)\n"
      ]
    },
    {
      "cell_type": "code",
      "execution_count": null,
      "metadata": {
        "colab": {
          "base_uri": "https://localhost:8080/",
          "height": 238
        },
        "id": "cAzG0o019F2j",
        "outputId": "57a7a056-5cc3-49bd-913c-0e7468a776c2"
      },
      "outputs": [
        {
          "output_type": "execute_result",
          "data": {
            "text/plain": [
              "   decimalLongitude  decimalLatitude\n",
              "0         11.293967         4.173409\n",
              "1          5.374550         6.292117\n",
              "2         15.102933         0.956955\n",
              "3         11.981012        -0.179144\n",
              "4         10.751233        -0.079009\n",
              "5         30.407880         0.397746"
            ],
            "text/html": [
              "\n",
              "  <div id=\"df-5ef6637a-4890-489b-8afc-04b587370136\">\n",
              "    <div class=\"colab-df-container\">\n",
              "      <div>\n",
              "<style scoped>\n",
              "    .dataframe tbody tr th:only-of-type {\n",
              "        vertical-align: middle;\n",
              "    }\n",
              "\n",
              "    .dataframe tbody tr th {\n",
              "        vertical-align: top;\n",
              "    }\n",
              "\n",
              "    .dataframe thead th {\n",
              "        text-align: right;\n",
              "    }\n",
              "</style>\n",
              "<table border=\"1\" class=\"dataframe\">\n",
              "  <thead>\n",
              "    <tr style=\"text-align: right;\">\n",
              "      <th></th>\n",
              "      <th>decimalLongitude</th>\n",
              "      <th>decimalLatitude</th>\n",
              "    </tr>\n",
              "  </thead>\n",
              "  <tbody>\n",
              "    <tr>\n",
              "      <th>0</th>\n",
              "      <td>11.293967</td>\n",
              "      <td>4.173409</td>\n",
              "    </tr>\n",
              "    <tr>\n",
              "      <th>1</th>\n",
              "      <td>5.374550</td>\n",
              "      <td>6.292117</td>\n",
              "    </tr>\n",
              "    <tr>\n",
              "      <th>2</th>\n",
              "      <td>15.102933</td>\n",
              "      <td>0.956955</td>\n",
              "    </tr>\n",
              "    <tr>\n",
              "      <th>3</th>\n",
              "      <td>11.981012</td>\n",
              "      <td>-0.179144</td>\n",
              "    </tr>\n",
              "    <tr>\n",
              "      <th>4</th>\n",
              "      <td>10.751233</td>\n",
              "      <td>-0.079009</td>\n",
              "    </tr>\n",
              "    <tr>\n",
              "      <th>5</th>\n",
              "      <td>30.407880</td>\n",
              "      <td>0.397746</td>\n",
              "    </tr>\n",
              "  </tbody>\n",
              "</table>\n",
              "</div>\n",
              "      <button class=\"colab-df-convert\" onclick=\"convertToInteractive('df-5ef6637a-4890-489b-8afc-04b587370136')\"\n",
              "              title=\"Convert this dataframe to an interactive table.\"\n",
              "              style=\"display:none;\">\n",
              "        \n",
              "  <svg xmlns=\"http://www.w3.org/2000/svg\" height=\"24px\"viewBox=\"0 0 24 24\"\n",
              "       width=\"24px\">\n",
              "    <path d=\"M0 0h24v24H0V0z\" fill=\"none\"/>\n",
              "    <path d=\"M18.56 5.44l.94 2.06.94-2.06 2.06-.94-2.06-.94-.94-2.06-.94 2.06-2.06.94zm-11 1L8.5 8.5l.94-2.06 2.06-.94-2.06-.94L8.5 2.5l-.94 2.06-2.06.94zm10 10l.94 2.06.94-2.06 2.06-.94-2.06-.94-.94-2.06-.94 2.06-2.06.94z\"/><path d=\"M17.41 7.96l-1.37-1.37c-.4-.4-.92-.59-1.43-.59-.52 0-1.04.2-1.43.59L10.3 9.45l-7.72 7.72c-.78.78-.78 2.05 0 2.83L4 21.41c.39.39.9.59 1.41.59.51 0 1.02-.2 1.41-.59l7.78-7.78 2.81-2.81c.8-.78.8-2.07 0-2.86zM5.41 20L4 18.59l7.72-7.72 1.47 1.35L5.41 20z\"/>\n",
              "  </svg>\n",
              "      </button>\n",
              "      \n",
              "  <style>\n",
              "    .colab-df-container {\n",
              "      display:flex;\n",
              "      flex-wrap:wrap;\n",
              "      gap: 12px;\n",
              "    }\n",
              "\n",
              "    .colab-df-convert {\n",
              "      background-color: #E8F0FE;\n",
              "      border: none;\n",
              "      border-radius: 50%;\n",
              "      cursor: pointer;\n",
              "      display: none;\n",
              "      fill: #1967D2;\n",
              "      height: 32px;\n",
              "      padding: 0 0 0 0;\n",
              "      width: 32px;\n",
              "    }\n",
              "\n",
              "    .colab-df-convert:hover {\n",
              "      background-color: #E2EBFA;\n",
              "      box-shadow: 0px 1px 2px rgba(60, 64, 67, 0.3), 0px 1px 3px 1px rgba(60, 64, 67, 0.15);\n",
              "      fill: #174EA6;\n",
              "    }\n",
              "\n",
              "    [theme=dark] .colab-df-convert {\n",
              "      background-color: #3B4455;\n",
              "      fill: #D2E3FC;\n",
              "    }\n",
              "\n",
              "    [theme=dark] .colab-df-convert:hover {\n",
              "      background-color: #434B5C;\n",
              "      box-shadow: 0px 1px 3px 1px rgba(0, 0, 0, 0.15);\n",
              "      filter: drop-shadow(0px 1px 2px rgba(0, 0, 0, 0.3));\n",
              "      fill: #FFFFFF;\n",
              "    }\n",
              "  </style>\n",
              "\n",
              "      <script>\n",
              "        const buttonEl =\n",
              "          document.querySelector('#df-5ef6637a-4890-489b-8afc-04b587370136 button.colab-df-convert');\n",
              "        buttonEl.style.display =\n",
              "          google.colab.kernel.accessAllowed ? 'block' : 'none';\n",
              "\n",
              "        async function convertToInteractive(key) {\n",
              "          const element = document.querySelector('#df-5ef6637a-4890-489b-8afc-04b587370136');\n",
              "          const dataTable =\n",
              "            await google.colab.kernel.invokeFunction('convertToInteractive',\n",
              "                                                     [key], {});\n",
              "          if (!dataTable) return;\n",
              "\n",
              "          const docLinkHtml = 'Like what you see? Visit the ' +\n",
              "            '<a target=\"_blank\" href=https://colab.research.google.com/notebooks/data_table.ipynb>data table notebook</a>'\n",
              "            + ' to learn more about interactive tables.';\n",
              "          element.innerHTML = '';\n",
              "          dataTable['output_type'] = 'display_data';\n",
              "          await google.colab.output.renderOutput(dataTable, element);\n",
              "          const docLink = document.createElement('div');\n",
              "          docLink.innerHTML = docLinkHtml;\n",
              "          element.appendChild(docLink);\n",
              "        }\n",
              "      </script>\n",
              "    </div>\n",
              "  </div>\n",
              "  "
            ]
          },
          "metadata": {},
          "execution_count": 39
        }
      ],
      "source": [
        "parrot_df_points = parrot_df[['decimalLongitude','decimalLatitude']]\n",
        "%R -i parrot_df_points\n",
        "%R head(parrot_df_points)"
      ]
    },
    {
      "cell_type": "markdown",
      "metadata": {
        "id": "nIiWH_-pnCQ0"
      },
      "source": [
        "**Extract Climate data**"
      ]
    },
    {
      "cell_type": "code",
      "execution_count": null,
      "metadata": {
        "id": "Q-73o09imwam"
      },
      "outputs": [],
      "source": [
        "\n",
        "%%R\n",
        "\n",
        "parrot_clim = cbind(ParrotPA, raster::extract(x = predictors, y = data.frame(ParrotPA[,c('decimalLongitude','decimalLatitude')]), cellnumbers=T ))\n"
      ]
    },
    {
      "cell_type": "markdown",
      "metadata": {
        "id": "uSKrw_-DoAMb"
      },
      "source": [
        "**Check for duplicated cells**"
      ]
    },
    {
      "cell_type": "code",
      "execution_count": null,
      "metadata": {
        "id": "ViZq95A5nsGW"
      },
      "outputs": [],
      "source": [
        "#%%R\n",
        "#duplicated(parrot_clim$cells)"
      ]
    },
    {
      "cell_type": "markdown",
      "metadata": {
        "id": "wzz6BzZLoMY-"
      },
      "source": [
        "**Retain non-duplicated cells**"
      ]
    },
    {
      "cell_type": "code",
      "execution_count": null,
      "metadata": {
        "id": "6FDGRefxnxz-"
      },
      "outputs": [],
      "source": [
        "%%R\n",
        "\n",
        "parrot_clim <- parrot_clim[!duplicated(parrot_clim$cells),]\n"
      ]
    },
    {
      "cell_type": "markdown",
      "metadata": {
        "id": "LoFln7R3odb9"
      },
      "source": [
        "**Remove NAs**"
      ]
    },
    {
      "cell_type": "code",
      "execution_count": null,
      "metadata": {
        "id": "5zqnrK9tobzh"
      },
      "outputs": [],
      "source": [
        "%%R\n",
        "\n",
        "parrot_clim<- na.omit(parrot_clim)\n",
        "\n"
      ]
    },
    {
      "cell_type": "code",
      "execution_count": null,
      "metadata": {
        "id": "ymjr7VzPo6N9"
      },
      "outputs": [],
      "source": [
        "%R -o parrot_clim # use python is.null to confirm if there are still NAs"
      ]
    },
    {
      "cell_type": "code",
      "execution_count": null,
      "metadata": {
        "colab": {
          "base_uri": "https://localhost:8080/"
        },
        "id": "WmA-uc5OpBLX",
        "outputId": "22997d8c-a202-491d-f9f8-3d95cc2502f4"
      },
      "outputs": [
        {
          "output_type": "execute_result",
          "data": {
            "text/plain": [
              "decimalLongitude    0\n",
              "decimalLatitude     0\n",
              "species             0\n",
              "cells               0\n",
              "bio1                0\n",
              "bio2                0\n",
              "bio3                0\n",
              "bio4                0\n",
              "bio5                0\n",
              "bio6                0\n",
              "bio7                0\n",
              "bio8                0\n",
              "bio9                0\n",
              "bio10               0\n",
              "bio11               0\n",
              "bio12               0\n",
              "bio13               0\n",
              "bio14               0\n",
              "bio15               0\n",
              "bio16               0\n",
              "bio17               0\n",
              "bio18               0\n",
              "bio19               0\n",
              "dtype: int64"
            ]
          },
          "metadata": {},
          "execution_count": 44
        }
      ],
      "source": [
        "parrot_clim.isnull().sum()"
      ]
    },
    {
      "cell_type": "code",
      "execution_count": null,
      "metadata": {
        "id": "Zh9DqWFbpOTu"
      },
      "outputs": [],
      "source": [
        "%R -i parrot_clim #return back to R for analysis"
      ]
    },
    {
      "cell_type": "code",
      "execution_count": null,
      "metadata": {
        "colab": {
          "base_uri": "https://localhost:8080/"
        },
        "id": "Lh8-aD_Epa8X",
        "outputId": "17e529c7-ebb3-4b62-9587-a62e048a5895"
      },
      "outputs": [
        {
          "output_type": "stream",
          "name": "stderr",
          "text": [
            "R[write to console]: Installing package into ‘/usr/local/lib/R/site-library’\n",
            "(as ‘lib’ is unspecified)\n",
            "\n",
            "R[write to console]: trying URL 'https://cran.rstudio.com/src/contrib/corrplot_0.92.tar.gz'\n",
            "\n",
            "R[write to console]: Content type 'application/x-gzip'\n",
            "R[write to console]:  length 3765850 bytes (3.6 MB)\n",
            "\n",
            "R[write to console]: =\n",
            "R[write to console]: =\n",
            "R[write to console]: =\n",
            "R[write to console]: =\n",
            "R[write to console]: =\n",
            "R[write to console]: =\n",
            "R[write to console]: =\n",
            "R[write to console]: =\n",
            "R[write to console]: =\n",
            "R[write to console]: =\n",
            "R[write to console]: =\n",
            "R[write to console]: =\n",
            "R[write to console]: =\n",
            "R[write to console]: =\n",
            "R[write to console]: =\n",
            "R[write to console]: =\n",
            "R[write to console]: =\n",
            "R[write to console]: =\n",
            "R[write to console]: =\n",
            "R[write to console]: =\n",
            "R[write to console]: =\n",
            "R[write to console]: =\n",
            "R[write to console]: =\n",
            "R[write to console]: =\n",
            "R[write to console]: =\n",
            "R[write to console]: =\n",
            "R[write to console]: =\n",
            "R[write to console]: =\n",
            "R[write to console]: =\n",
            "R[write to console]: =\n",
            "R[write to console]: =\n",
            "R[write to console]: =\n",
            "R[write to console]: =\n",
            "R[write to console]: =\n",
            "R[write to console]: =\n",
            "R[write to console]: =\n",
            "R[write to console]: =\n",
            "R[write to console]: =\n",
            "R[write to console]: =\n",
            "R[write to console]: =\n",
            "R[write to console]: =\n",
            "R[write to console]: =\n",
            "R[write to console]: =\n",
            "R[write to console]: =\n",
            "R[write to console]: =\n",
            "R[write to console]: =\n",
            "R[write to console]: =\n",
            "R[write to console]: =\n",
            "R[write to console]: =\n",
            "R[write to console]: =\n",
            "R[write to console]: \n",
            "\n",
            "R[write to console]: downloaded 3.6 MB\n",
            "\n",
            "\n",
            "R[write to console]: \n",
            "\n",
            "R[write to console]: \n",
            "R[write to console]: The downloaded source packages are in\n",
            "\t‘/tmp/RtmpjKVuvD/downloaded_packages’\n",
            "R[write to console]: \n",
            "R[write to console]: \n",
            "\n",
            "R[write to console]: corrplot 0.92 loaded\n",
            "\n"
          ]
        }
      ],
      "source": [
        "%%R\n",
        "\n",
        "install.packages(\"corrplot\")\n",
        "library(\"corrplot\")"
      ]
    },
    {
      "cell_type": "code",
      "execution_count": null,
      "metadata": {
        "colab": {
          "base_uri": "https://localhost:8080/",
          "height": 497
        },
        "id": "97LEinnfvLzL",
        "outputId": "9014c1c1-1fbd-4936-e80d-66a23e8392c4"
      },
      "outputs": [
        {
          "output_type": "display_data",
          "data": {
            "image/png": "[encoded data removed]"
          },
          "metadata": {}
        }
      ],
      "source": [
        "%%R\n",
        "\n",
        "cor_parrot <- cor(parrot_clim[,-c(1:4)], method='spearman')\n",
        "\n",
        "corrplot.mixed(cor_parrot, tl.pos='d', tl.cex=0.7, number.cex=0.5, addCoefasPercent=T)"
      ]
    },
    {
      "cell_type": "markdown",
      "metadata": {
        "id": "24FNdaYe0fYG"
      },
      "source": [
        "**Picking Predictors**"
      ]
    },
    {
      "cell_type": "markdown",
      "metadata": {
        "id": "oz-mZKyN0cHM"
      },
      "source": [
        "Climate data downloaded from worldclim (see above)\n",
        "\n",
        "BIO7 = Temperature Annual Range,\n",
        "BIO15 = Precipitation Seasonality (Coefficient of Variation),\n",
        "BIO11 = Mean Temperature of Coldest Quarter,\n",
        "BIO19 = Precipitation of Coldest Quarter,\n",
        "BIO10 = Mean Temperature of Warmest Quarter,\n",
        "BIO8 = Mean Temperature of Wettest Quarter,\n",
        "BIO9 = Mean Temperature of Driest Quarter"
      ]
    },
    {
      "cell_type": "code",
      "execution_count": null,
      "metadata": {
        "id": "JqE8U2Er1M7p"
      },
      "outputs": [],
      "source": [
        "%%R\n",
        "\n",
        "parrot_model <- parrot_clim[, c(\"decimalLongitude\", \"decimalLatitude\", \"species\", \"bio7\",\"bio8\", \"bio9\",\"bio10\", \"bio11\", \"bio15\", \"bio19\")]"
      ]
    },
    {
      "cell_type": "markdown",
      "metadata": {
        "id": "BzWVJnnn0uXz"
      },
      "source": [
        "**Fitting the 1st model (Regression)**"
      ]
    },
    {
      "cell_type": "code",
      "execution_count": null,
      "metadata": {
        "colab": {
          "base_uri": "https://localhost:8080/"
        },
        "id": "frRp2cgzz4Db",
        "outputId": "c354c5df-ce88-4f69-99c0-16cacf6d9cea"
      },
      "outputs": [
        {
          "output_type": "stream",
          "name": "stdout",
          "text": [
            "\n",
            "Call:\n",
            "glm(formula = species ~ bio7 + bio8 + bio9 + bio10 + bio11 + \n",
            "    bio15 + bio19, family = binomial(link = logit), data = parrot_model)\n",
            "\n",
            "Deviance Residuals: \n",
            "    Min       1Q   Median       3Q      Max  \n",
            "-2.5277  -0.1372  -0.0142   0.5357   3.5001  \n",
            "\n",
            "Coefficients:\n",
            "              Estimate Std. Error z value Pr(>|z|)    \n",
            "(Intercept) 10.5608111  1.1308689   9.339  < 2e-16 ***\n",
            "bio7        -0.0470849  0.0039154 -12.026  < 2e-16 ***\n",
            "bio8        -0.0113843  0.0116132  -0.980    0.327    \n",
            "bio9        -0.0005523  0.0106146  -0.052    0.958    \n",
            "bio10        0.0051649  0.0130318   0.396    0.692    \n",
            "bio11       -0.0013544  0.0107765  -0.126    0.900    \n",
            "bio15       -0.0277710  0.0050434  -5.506 3.66e-08 ***\n",
            "bio19        0.0003298  0.0002932   1.125    0.261    \n",
            "---\n",
            "Signif. codes:  0 ‘***’ 0.001 ‘**’ 0.01 ‘*’ 0.05 ‘.’ 0.1 ‘ ’ 1\n",
            "\n",
            "(Dispersion parameter for binomial family taken to be 1)\n",
            "\n",
            "    Null deviance: 2716.4  on 2030  degrees of freedom\n",
            "Residual deviance: 1088.9  on 2023  degrees of freedom\n",
            "AIC: 1104.9\n",
            "\n",
            "Number of Fisher Scoring iterations: 8\n",
            "\n"
          ]
        }
      ],
      "source": [
        "%%R\n",
        "\n",
        "model_glm <- glm(species ~ bio7 + bio8 + bio9 + bio10 + bio11 + bio15 +bio19, family=binomial(link=logit), data= parrot_model)\n",
        "summary(model_glm)"
      ]
    },
    {
      "cell_type": "markdown",
      "metadata": {
        "id": "yO-1U1vO35-Z"
      },
      "source": [
        "**Plot the probability of occurence**"
      ]
    },
    {
      "cell_type": "code",
      "execution_count": null,
      "metadata": {
        "id": "YsFd-F4gz3uQ"
      },
      "outputs": [],
      "source": [
        "#Get the predictors\n",
        "\n",
        "%%R\n",
        "\n",
        "my_preds <- c('bio7', 'bio8', \"bio9\", \"bio10\", \"bio11\", \"bio15\", \"bio19\")\n"
      ]
    },
    {
      "cell_type": "code",
      "execution_count": null,
      "metadata": {
        "id": "whZRA_h_6LfC"
      },
      "outputs": [],
      "source": [
        "%%R\n",
        "\n",
        "Clim_pred <- parrot_clim[, c(\"bio7\",\"bio8\", \"bio9\",\"bio10\", \"bio11\", \"bio15\", \"bio19\")]"
      ]
    },
    {
      "cell_type": "code",
      "execution_count": null,
      "metadata": {
        "id": "oXXDlJQMFuPO"
      },
      "outputs": [],
      "source": [
        "%%R\n",
        "\n",
        "Clim_pred_stk = stack(Clim_pred)\n"
      ]
    },
    {
      "cell_type": "code",
      "execution_count": null,
      "metadata": {
        "colab": {
          "base_uri": "https://localhost:8080/",
          "height": 497
        },
        "id": "Leo3UpPj4Oo_",
        "outputId": "e4ec36c7-84b7-4e95-b2f3-69909ab44c5e"
      },
      "outputs": [
        {
          "output_type": "display_data",
          "data": {
            "image/png": "[encoded data removed]"
          },
          "metadata": {}
        }
      ],
      "source": [
        "%%R\n",
        "par(mfrow=c(1,2))\n",
        "bio_clim_df1 <- data.frame(rasterToPoints(predictors[[my_preds]]))\n",
        "model_glm_bin <- model_glm_pred <- rasterFromXYZ(cbind(bio_clim_df1[,1:2],predict(model_glm, bio_clim_df1, type='response')))\n",
        "plot((model_glm_pred),xlim = c(min(parrot_model$decimalLongitude),max (parrot_model$decimalLongitude)),ylim = c(min(parrot_model$decimalLatitude), max(parrot_model$decimalLatitude)), main='Probability of Occurence', axes=F)\n",
        "plot((model_glm_bin > 0.1),xlim = c(min(parrot_model$decimalLongitude),max (parrot_model$decimalLongitude)),ylim = c(min(parrot_model$decimalLatitude), max(parrot_model$decimalLatitude)), main='Binary Prediction', axes=F)\n"
      ]
    },
    {
      "cell_type": "code",
      "execution_count": null,
      "metadata": {
        "id": "vUix_VSSb35r"
      },
      "outputs": [],
      "source": [
        "#!pwd  # to get wd"
      ]
    },
    {
      "cell_type": "code",
      "execution_count": null,
      "metadata": {
        "id": "ALkpdABJRdM1"
      },
      "outputs": [],
      "source": [
        "#!git clone https://gitup.uni-potsdam.de/macroecology/mecofun.git"
      ]
    },
    {
      "cell_type": "code",
      "execution_count": null,
      "metadata": {
        "id": "VeMfRj390SBO"
      },
      "outputs": [],
      "source": [
        "#%%R\n",
        "#install.packages(\"biomod2\")"
      ]
    },
    {
      "cell_type": "code",
      "execution_count": null,
      "metadata": {
        "id": "enI9HCym2dPo"
      },
      "outputs": [],
      "source": [
        "#%%R\n",
        "\n",
        "#library('biomod2')"
      ]
    },
    {
      "cell_type": "code",
      "execution_count": null,
      "metadata": {
        "colab": {
          "base_uri": "https://localhost:8080/"
        },
        "id": "cmpx3CZF17kd",
        "outputId": "13d412ec-c80b-453d-bb8e-a7da56a25720"
      },
      "outputs": [
        {
          "output_type": "stream",
          "name": "stderr",
          "text": [
            "R[write to console]: Downloading GitHub repo mlr-org/mlr@HEAD\n",
            "\n"
          ]
        },
        {
          "output_type": "stream",
          "name": "stdout",
          "text": [
            "These packages have more recent versions available.\n",
            "It is recommended to update all of them.\n",
            "Which would you like to update?\n",
            "\n",
            "1: All                          \n",
            "2: CRAN packages only           \n",
            "3: None                         \n",
            "4: rlang (1.0.1 -> 1.0.2) [CRAN]\n",
            "5: withr (2.4.3 -> 2.5.0) [CRAN]\n",
            "\n",
            "Enter one or more numbers, or an empty line to skip updates: 1\n",
            "rlang        (1.0.1 -> 1.0.2   ) [CRAN]\n",
            "checkmate    (NA    -> 2.0.0   ) [CRAN]\n",
            "BBmisc       (NA    -> 1.12    ) [CRAN]\n",
            "withr        (2.4.3 -> 2.5.0   ) [CRAN]\n",
            "fastmatch    (NA    -> 1.1-3   ) [CRAN]\n",
            "XML          (NA    -> 3.99-0.9) [CRAN]\n",
            "parallelMap  (NA    -> 1.5.1   ) [CRAN]\n",
            "ParamHelpers (NA    -> 1.14    ) [CRAN]\n"
          ]
        },
        {
          "output_type": "stream",
          "name": "stderr",
          "text": [
            "R[write to console]: Installing 8 packages: rlang, checkmate, BBmisc, withr, fastmatch, XML, parallelMap, ParamHelpers\n",
            "\n",
            "R[write to console]: Installing packages into ‘/usr/local/lib/R/site-library’\n",
            "(as ‘lib’ is unspecified)\n",
            "\n",
            "R[write to console]: trying URL 'https://cran.rstudio.com/src/contrib/rlang_1.0.2.tar.gz'\n",
            "\n",
            "R[write to console]: Content type 'application/x-gzip'\n",
            "R[write to console]:  length 724829 bytes (707 KB)\n",
            "\n",
            "R[write to console]: =\n",
            "R[write to console]: =\n",
            "R[write to console]: =\n",
            "R[write to console]: =\n",
            "R[write to console]: =\n",
            "R[write to console]: =\n",
            "R[write to console]: =\n",
            "R[write to console]: =\n",
            "R[write to console]: =\n",
            "R[write to console]: =\n",
            "R[write to console]: =\n",
            "R[write to console]: =\n",
            "R[write to console]: =\n",
            "R[write to console]: =\n",
            "R[write to console]: =\n",
            "R[write to console]: =\n",
            "R[write to console]: =\n",
            "R[write to console]: =\n",
            "R[write to console]: =\n",
            "R[write to console]: =\n",
            "R[write to console]: =\n",
            "R[write to console]: =\n",
            "R[write to console]: =\n",
            "R[write to console]: =\n",
            "R[write to console]: =\n",
            "R[write to console]: =\n",
            "R[write to console]: =\n",
            "R[write to console]: =\n",
            "R[write to console]: =\n",
            "R[write to console]: =\n",
            "R[write to console]: =\n",
            "R[write to console]: =\n",
            "R[write to console]: =\n",
            "R[write to console]: =\n",
            "R[write to console]: =\n",
            "R[write to console]: =\n",
            "R[write to console]: =\n",
            "R[write to console]: =\n",
            "R[write to console]: =\n",
            "R[write to console]: =\n",
            "R[write to console]: =\n",
            "R[write to console]: =\n",
            "R[write to console]: =\n",
            "R[write to console]: =\n",
            "R[write to console]: =\n",
            "R[write to console]: =\n",
            "R[write to console]: =\n",
            "R[write to console]: =\n",
            "R[write to console]: =\n",
            "R[write to console]: =\n",
            "R[write to console]: \n",
            "\n",
            "R[write to console]: downloaded 707 KB\n",
            "\n",
            "\n",
            "R[write to console]: trying URL 'https://cran.rstudio.com/src/contrib/checkmate_2.0.0.tar.gz'\n",
            "\n",
            "R[write to console]: Content type 'application/x-gzip'\n",
            "R[write to console]:  length 168716 bytes (164 KB)\n",
            "\n",
            "R[write to console]: =\n",
            "R[write to console]: =\n",
            "R[write to console]: =\n",
            "R[write to console]: =\n",
            "R[write to console]: =\n",
            "R[write to console]: =\n",
            "R[write to console]: =\n",
            "R[write to console]: =\n",
            "R[write to console]: =\n",
            "R[write to console]: =\n",
            "R[write to console]: =\n",
            "R[write to console]: =\n",
            "R[write to console]: =\n",
            "R[write to console]: =\n",
            "R[write to console]: =\n",
            "R[write to console]: =\n",
            "R[write to console]: =\n",
            "R[write to console]: =\n",
            "R[write to console]: =\n",
            "R[write to console]: =\n",
            "R[write to console]: =\n",
            "R[write to console]: =\n",
            "R[write to console]: =\n",
            "R[write to console]: =\n",
            "R[write to console]: =\n",
            "R[write to console]: =\n",
            "R[write to console]: =\n",
            "R[write to console]: =\n",
            "R[write to console]: =\n",
            "R[write to console]: =\n",
            "R[write to console]: =\n",
            "R[write to console]: =\n",
            "R[write to console]: =\n",
            "R[write to console]: =\n",
            "R[write to console]: =\n",
            "R[write to console]: =\n",
            "R[write to console]: =\n",
            "R[write to console]: =\n",
            "R[write to console]: =\n",
            "R[write to console]: =\n",
            "R[write to console]: =\n",
            "R[write to console]: =\n",
            "R[write to console]: =\n",
            "R[write to console]: =\n",
            "R[write to console]: =\n",
            "R[write to console]: =\n",
            "R[write to console]: =\n",
            "R[write to console]: =\n",
            "R[write to console]: =\n",
            "R[write to console]: =\n",
            "R[write to console]: \n",
            "\n",
            "R[write to console]: downloaded 164 KB\n",
            "\n",
            "\n",
            "R[write to console]: trying URL 'https://cran.rstudio.com/src/contrib/BBmisc_1.12.tar.gz'\n",
            "\n",
            "R[write to console]: Content type 'application/x-gzip'\n",
            "R[write to console]:  length 85986 bytes (83 KB)\n",
            "\n",
            "R[write to console]: =\n",
            "R[write to console]: =\n",
            "R[write to console]: =\n",
            "R[write to console]: =\n",
            "R[write to console]: =\n",
            "R[write to console]: =\n",
            "R[write to console]: =\n",
            "R[write to console]: =\n",
            "R[write to console]: =\n",
            "R[write to console]: =\n",
            "R[write to console]: =\n",
            "R[write to console]: =\n",
            "R[write to console]: =\n",
            "R[write to console]: =\n",
            "R[write to console]: =\n",
            "R[write to console]: =\n",
            "R[write to console]: =\n",
            "R[write to console]: =\n",
            "R[write to console]: =\n",
            "R[write to console]: =\n",
            "R[write to console]: =\n",
            "R[write to console]: =\n",
            "R[write to console]: =\n",
            "R[write to console]: =\n",
            "R[write to console]: =\n",
            "R[write to console]: =\n",
            "R[write to console]: =\n",
            "R[write to console]: =\n",
            "R[write to console]: =\n",
            "R[write to console]: =\n",
            "R[write to console]: =\n",
            "R[write to console]: =\n",
            "R[write to console]: =\n",
            "R[write to console]: =\n",
            "R[write to console]: =\n",
            "R[write to console]: =\n",
            "R[write to console]: =\n",
            "R[write to console]: =\n",
            "R[write to console]: =\n",
            "R[write to console]: =\n",
            "R[write to console]: =\n",
            "R[write to console]: =\n",
            "R[write to console]: =\n",
            "R[write to console]: =\n",
            "R[write to console]: =\n",
            "R[write to console]: =\n",
            "R[write to console]: =\n",
            "R[write to console]: =\n",
            "R[write to console]: =\n",
            "R[write to console]: =\n",
            "R[write to console]: \n",
            "\n",
            "R[write to console]: downloaded 83 KB\n",
            "\n",
            "\n",
            "R[write to console]: trying URL 'https://cran.rstudio.com/src/contrib/withr_2.5.0.tar.gz'\n",
            "\n",
            "R[write to console]: Content type 'application/x-gzip'\n",
            "R[write to console]:  length 102089 bytes (99 KB)\n",
            "\n",
            "R[write to console]: =\n",
            "R[write to console]: =\n",
            "R[write to console]: =\n",
            "R[write to console]: =\n",
            "R[write to console]: =\n",
            "R[write to console]: =\n",
            "R[write to console]: =\n",
            "R[write to console]: =\n",
            "R[write to console]: =\n",
            "R[write to console]: =\n",
            "R[write to console]: =\n",
            "R[write to console]: =\n",
            "R[write to console]: =\n",
            "R[write to console]: =\n",
            "R[write to console]: =\n",
            "R[write to console]: =\n",
            "R[write to console]: =\n",
            "R[write to console]: =\n",
            "R[write to console]: =\n",
            "R[write to console]: =\n",
            "R[write to console]: =\n",
            "R[write to console]: =\n",
            "R[write to console]: =\n",
            "R[write to console]: =\n",
            "R[write to console]: =\n",
            "R[write to console]: =\n",
            "R[write to console]: =\n",
            "R[write to console]: =\n",
            "R[write to console]: =\n",
            "R[write to console]: =\n",
            "R[write to console]: =\n",
            "R[write to console]: =\n",
            "R[write to console]: =\n",
            "R[write to console]: =\n",
            "R[write to console]: =\n",
            "R[write to console]: =\n",
            "R[write to console]: =\n",
            "R[write to console]: =\n",
            "R[write to console]: =\n",
            "R[write to console]: =\n",
            "R[write to console]: =\n",
            "R[write to console]: =\n",
            "R[write to console]: =\n",
            "R[write to console]: =\n",
            "R[write to console]: =\n",
            "R[write to console]: =\n",
            "R[write to console]: =\n",
            "R[write to console]: =\n",
            "R[write to console]: =\n",
            "R[write to console]: =\n",
            "R[write to console]: \n",
            "\n",
            "R[write to console]: downloaded 99 KB\n",
            "\n",
            "\n",
            "R[write to console]: trying URL 'https://cran.rstudio.com/src/contrib/fastmatch_1.1-3.tar.gz'\n",
            "\n",
            "R[write to console]: Content type 'application/x-gzip'\n",
            "R[write to console]:  length 14887 bytes (14 KB)\n",
            "\n",
            "R[write to console]: =\n",
            "R[write to console]: =\n",
            "R[write to console]: =\n",
            "R[write to console]: =\n",
            "R[write to console]: =\n",
            "R[write to console]: =\n",
            "R[write to console]: =\n",
            "R[write to console]: =\n",
            "R[write to console]: =\n",
            "R[write to console]: =\n",
            "R[write to console]: =\n",
            "R[write to console]: =\n",
            "R[write to console]: =\n",
            "R[write to console]: =\n",
            "R[write to console]: =\n",
            "R[write to console]: =\n",
            "R[write to console]: =\n",
            "R[write to console]: =\n",
            "R[write to console]: =\n",
            "R[write to console]: =\n",
            "R[write to console]: =\n",
            "R[write to console]: =\n",
            "R[write to console]: =\n",
            "R[write to console]: =\n",
            "R[write to console]: =\n",
            "R[write to console]: =\n",
            "R[write to console]: =\n",
            "R[write to console]: =\n",
            "R[write to console]: =\n",
            "R[write to console]: =\n",
            "R[write to console]: =\n",
            "R[write to console]: =\n",
            "R[write to console]: =\n",
            "R[write to console]: =\n",
            "R[write to console]: =\n",
            "R[write to console]: =\n",
            "R[write to console]: =\n",
            "R[write to console]: =\n",
            "R[write to console]: =\n",
            "R[write to console]: =\n",
            "R[write to console]: =\n",
            "R[write to console]: =\n",
            "R[write to console]: =\n",
            "R[write to console]: =\n",
            "R[write to console]: =\n",
            "R[write to console]: =\n",
            "R[write to console]: =\n",
            "R[write to console]: =\n",
            "R[write to console]: =\n",
            "R[write to console]: =\n",
            "R[write to console]: \n",
            "\n",
            "R[write to console]: downloaded 14 KB\n",
            "\n",
            "\n",
            "R[write to console]: trying URL 'https://cran.rstudio.com/src/contrib/XML_3.99-0.9.tar.gz'\n",
            "\n",
            "R[write to console]: Content type 'application/x-gzip'\n",
            "R[write to console]:  length 970514 bytes (947 KB)\n",
            "\n",
            "R[write to console]: =\n",
            "R[write to console]: =\n",
            "R[write to console]: =\n",
            "R[write to console]: =\n",
            "R[write to console]: =\n",
            "R[write to console]: =\n",
            "R[write to console]: =\n",
            "R[write to console]: =\n",
            "R[write to console]: =\n",
            "R[write to console]: =\n",
            "R[write to console]: =\n",
            "R[write to console]: =\n",
            "R[write to console]: =\n",
            "R[write to console]: =\n",
            "R[write to console]: =\n",
            "R[write to console]: =\n",
            "R[write to console]: =\n",
            "R[write to console]: =\n",
            "R[write to console]: =\n",
            "R[write to console]: =\n",
            "R[write to console]: =\n",
            "R[write to console]: =\n",
            "R[write to console]: =\n",
            "R[write to console]: =\n",
            "R[write to console]: =\n",
            "R[write to console]: =\n",
            "R[write to console]: =\n",
            "R[write to console]: =\n",
            "R[write to console]: =\n",
            "R[write to console]: =\n",
            "R[write to console]: =\n",
            "R[write to console]: =\n",
            "R[write to console]: =\n",
            "R[write to console]: =\n",
            "R[write to console]: =\n",
            "R[write to console]: =\n",
            "R[write to console]: =\n",
            "R[write to console]: =\n",
            "R[write to console]: =\n",
            "R[write to console]: =\n",
            "R[write to console]: =\n",
            "R[write to console]: =\n",
            "R[write to console]: =\n",
            "R[write to console]: =\n",
            "R[write to console]: =\n",
            "R[write to console]: =\n",
            "R[write to console]: =\n",
            "R[write to console]: =\n",
            "R[write to console]: =\n",
            "R[write to console]: =\n",
            "R[write to console]: \n",
            "\n",
            "R[write to console]: downloaded 947 KB\n",
            "\n",
            "\n",
            "R[write to console]: trying URL 'https://cran.rstudio.com/src/contrib/parallelMap_1.5.1.tar.gz'\n",
            "\n",
            "R[write to console]: Content type 'application/x-gzip'\n",
            "R[write to console]:  length 29651 bytes (28 KB)\n",
            "\n",
            "R[write to console]: =\n",
            "R[write to console]: =\n",
            "R[write to console]: =\n",
            "R[write to console]: =\n",
            "R[write to console]: =\n",
            "R[write to console]: =\n",
            "R[write to console]: =\n",
            "R[write to console]: =\n",
            "R[write to console]: =\n",
            "R[write to console]: =\n",
            "R[write to console]: =\n",
            "R[write to console]: =\n",
            "R[write to console]: =\n",
            "R[write to console]: =\n",
            "R[write to console]: =\n",
            "R[write to console]: =\n",
            "R[write to console]: =\n",
            "R[write to console]: =\n",
            "R[write to console]: =\n",
            "R[write to console]: =\n",
            "R[write to console]: =\n",
            "R[write to console]: =\n",
            "R[write to console]: =\n",
            "R[write to console]: =\n",
            "R[write to console]: =\n",
            "R[write to console]: =\n",
            "R[write to console]: =\n",
            "R[write to console]: =\n",
            "R[write to console]: =\n",
            "R[write to console]: =\n",
            "R[write to console]: =\n",
            "R[write to console]: =\n",
            "R[write to console]: =\n",
            "R[write to console]: =\n",
            "R[write to console]: =\n",
            "R[write to console]: =\n",
            "R[write to console]: =\n",
            "R[write to console]: =\n",
            "R[write to console]: =\n",
            "R[write to console]: =\n",
            "R[write to console]: =\n",
            "R[write to console]: =\n",
            "R[write to console]: =\n",
            "R[write to console]: =\n",
            "R[write to console]: =\n",
            "R[write to console]: =\n",
            "R[write to console]: =\n",
            "R[write to console]: =\n",
            "R[write to console]: =\n",
            "R[write to console]: =\n",
            "R[write to console]: \n",
            "\n",
            "R[write to console]: downloaded 28 KB\n",
            "\n",
            "\n",
            "R[write to console]: trying URL 'https://cran.rstudio.com/src/contrib/ParamHelpers_1.14.tar.gz'\n",
            "\n",
            "R[write to console]: Content type 'application/x-gzip'\n",
            "R[write to console]:  length 123633 bytes (120 KB)\n",
            "\n",
            "R[write to console]: =\n",
            "R[write to console]: =\n",
            "R[write to console]: =\n",
            "R[write to console]: =\n",
            "R[write to console]: =\n",
            "R[write to console]: =\n",
            "R[write to console]: =\n",
            "R[write to console]: =\n",
            "R[write to console]: =\n",
            "R[write to console]: =\n",
            "R[write to console]: =\n",
            "R[write to console]: =\n",
            "R[write to console]: =\n",
            "R[write to console]: =\n",
            "R[write to console]: =\n",
            "R[write to console]: =\n",
            "R[write to console]: =\n",
            "R[write to console]: =\n",
            "R[write to console]: =\n",
            "R[write to console]: =\n",
            "R[write to console]: =\n",
            "R[write to console]: =\n",
            "R[write to console]: =\n",
            "R[write to console]: =\n",
            "R[write to console]: =\n",
            "R[write to console]: =\n",
            "R[write to console]: =\n",
            "R[write to console]: =\n",
            "R[write to console]: =\n",
            "R[write to console]: =\n",
            "R[write to console]: =\n",
            "R[write to console]: =\n",
            "R[write to console]: =\n",
            "R[write to console]: =\n",
            "R[write to console]: =\n",
            "R[write to console]: =\n",
            "R[write to console]: =\n",
            "R[write to console]: =\n",
            "R[write to console]: =\n",
            "R[write to console]: =\n",
            "R[write to console]: =\n",
            "R[write to console]: =\n",
            "R[write to console]: =\n",
            "R[write to console]: =\n",
            "R[write to console]: =\n",
            "R[write to console]: =\n",
            "R[write to console]: =\n",
            "R[write to console]: =\n",
            "R[write to console]: =\n",
            "R[write to console]: =\n",
            "R[write to console]: \n",
            "\n",
            "R[write to console]: downloaded 120 KB\n",
            "\n",
            "\n",
            "R[write to console]: \n",
            "\n",
            "R[write to console]: \n",
            "R[write to console]: The downloaded source packages are in\n",
            "\t‘/tmp/RtmpCbIVmN/downloaded_packages’\n",
            "R[write to console]: \n",
            "R[write to console]: \n",
            "\n"
          ]
        },
        {
          "output_type": "stream",
          "name": "stdout",
          "text": [
            "* checking for file ‘/tmp/RtmpCbIVmN/remotes421c994d30/mlr-org-mlr-4ee9bc3/DESCRIPTION’ ... OK\n",
            "* preparing ‘mlr’:\n",
            "* checking DESCRIPTION meta-information ... OK\n",
            "* cleaning src\n",
            "* installing the package to process help pages\n",
            "* saving partial Rd database\n",
            "* cleaning src\n",
            "* checking for LF line-endings in source and make files and shell scripts\n",
            "* checking for empty or unneeded directories\n",
            "Removed empty directory ‘mlr/man/figures’\n",
            "* building ‘mlr_2.19.0.9001.tar.gz’\n",
            "\n"
          ]
        },
        {
          "output_type": "stream",
          "name": "stderr",
          "text": [
            "R[write to console]: Installing package into ‘/usr/local/lib/R/site-library’\n",
            "(as ‘lib’ is unspecified)\n",
            "\n"
          ]
        }
      ],
      "source": [
        "\n",
        "#Install the \"MLR\" package\n",
        "\n",
        "%%R\n",
        "#install.packages(\"mlr\")\n",
        "\n",
        "remotes::install_github(\"mlr-org/mlr\")\n"
      ]
    },
    {
      "cell_type": "code",
      "execution_count": null,
      "metadata": {
        "id": "sVllOUScDYki",
        "colab": {
          "base_uri": "https://localhost:8080/"
        },
        "outputId": "047fd1bd-f48c-496e-e12e-fef0e565506c"
      },
      "outputs": [
        {
          "output_type": "stream",
          "name": "stderr",
          "text": [
            "R[write to console]: Loading required package: ParamHelpers\n",
            "\n",
            "R[write to console]: \n",
            "Attaching package: ‘ParamHelpers’\n",
            "\n",
            "\n",
            "R[write to console]: The following object is masked from ‘package:raster’:\n",
            "\n",
            "    getValues\n",
            "\n",
            "\n",
            "R[write to console]: Warning message: 'mlr' is in 'maintenance-only' mode since July 2019.\n",
            "Future development will only happen in 'mlr3'\n",
            "(<https://mlr3.mlr-org.com>). Due to the focus on 'mlr3' there might be\n",
            "uncaught bugs meanwhile in {mlr} - please consider switching.\n",
            "\n",
            "R[write to console]: \n",
            "Attaching package: ‘mlr’\n",
            "\n",
            "\n",
            "R[write to console]: The following object is masked from ‘package:raster’:\n",
            "\n",
            "    resample\n",
            "\n",
            "\n"
          ]
        }
      ],
      "source": [
        "%%R\n",
        "library('mlr')"
      ]
    },
    {
      "cell_type": "code",
      "execution_count": null,
      "metadata": {
        "colab": {
          "base_uri": "https://localhost:8080/"
        },
        "id": "76Baktriao4a",
        "outputId": "a769cb07-c5cd-4615-b3e4-60e1738260a2"
      },
      "outputs": [
        {
          "output_type": "stream",
          "name": "stderr",
          "text": [
            "R[write to console]: Installing package into ‘/usr/local/lib/R/site-library’\n",
            "(as ‘lib’ is unspecified)\n",
            "\n",
            "R[write to console]: trying URL 'https://cran.rstudio.com/src/contrib/kernlab_0.9-29.tar.gz'\n",
            "\n",
            "R[write to console]: Content type 'application/x-gzip'\n",
            "R[write to console]:  length 1168376 bytes (1.1 MB)\n",
            "\n",
            "R[write to console]: =\n",
            "R[write to console]: =\n",
            "R[write to console]: =\n",
            "R[write to console]: =\n",
            "R[write to console]: =\n",
            "R[write to console]: =\n",
            "R[write to console]: =\n",
            "R[write to console]: =\n",
            "R[write to console]: =\n",
            "R[write to console]: =\n",
            "R[write to console]: =\n",
            "R[write to console]: =\n",
            "R[write to console]: =\n",
            "R[write to console]: =\n",
            "R[write to console]: =\n",
            "R[write to console]: =\n",
            "R[write to console]: =\n",
            "R[write to console]: =\n",
            "R[write to console]: =\n",
            "R[write to console]: =\n",
            "R[write to console]: =\n",
            "R[write to console]: =\n",
            "R[write to console]: =\n",
            "R[write to console]: =\n",
            "R[write to console]: =\n",
            "R[write to console]: =\n",
            "R[write to console]: =\n",
            "R[write to console]: =\n",
            "R[write to console]: =\n",
            "R[write to console]: =\n",
            "R[write to console]: =\n",
            "R[write to console]: =\n",
            "R[write to console]: =\n",
            "R[write to console]: =\n",
            "R[write to console]: =\n",
            "R[write to console]: =\n",
            "R[write to console]: =\n",
            "R[write to console]: =\n",
            "R[write to console]: =\n",
            "R[write to console]: =\n",
            "R[write to console]: =\n",
            "R[write to console]: =\n",
            "R[write to console]: =\n",
            "R[write to console]: =\n",
            "R[write to console]: =\n",
            "R[write to console]: =\n",
            "R[write to console]: =\n",
            "R[write to console]: =\n",
            "R[write to console]: =\n",
            "R[write to console]: =\n",
            "R[write to console]: \n",
            "\n",
            "R[write to console]: downloaded 1.1 MB\n",
            "\n",
            "\n",
            "R[write to console]: \n",
            "\n",
            "R[write to console]: \n",
            "R[write to console]: The downloaded source packages are in\n",
            "\t‘/tmp/RtmpCbIVmN/downloaded_packages’\n",
            "R[write to console]: \n",
            "R[write to console]: \n",
            "\n"
          ]
        }
      ],
      "source": [
        "#Install Kernlab pkg to use machine leraning algorithms\n",
        "\n",
        "%%R\n",
        "install.packages(\"kernlab\")"
      ]
    },
    {
      "cell_type": "code",
      "execution_count": null,
      "metadata": {
        "colab": {
          "base_uri": "https://localhost:8080/"
        },
        "id": "gr2l5VVaD8pP",
        "outputId": "ae1a9d31-4bd5-4768-89d7-43cb9f4804b5"
      },
      "outputs": [
        {
          "output_type": "stream",
          "name": "stderr",
          "text": [
            "R[write to console]: \n",
            "Attaching package: ‘kernlab’\n",
            "\n",
            "\n",
            "R[write to console]: The following objects are masked from ‘package:raster’:\n",
            "\n",
            "    buffer, rotated\n",
            "\n",
            "\n"
          ]
        }
      ],
      "source": [
        "%%R\n",
        "\n",
        "library(\"kernlab\")"
      ]
    },
    {
      "cell_type": "code",
      "execution_count": null,
      "metadata": {
        "id": "8rH-QmW1IGv5"
      },
      "outputs": [],
      "source": [
        "%R -o parrot_model #pass to py"
      ]
    },
    {
      "cell_type": "code",
      "execution_count": null,
      "metadata": {
        "colab": {
          "base_uri": "https://localhost:8080/",
          "height": 424
        },
        "id": "bXqQYGZlILSJ",
        "outputId": "f1f04e44-0cbd-4a82-84f7-a05fe0126e02"
      },
      "outputs": [
        {
          "output_type": "execute_result",
          "data": {
            "text/html": [
              "\n",
              "  <div id=\"df-029e95b0-224d-40da-8cd2-5ca31ae6061d\">\n",
              "    <div class=\"colab-df-container\">\n",
              "      <div>\n",
              "<style scoped>\n",
              "    .dataframe tbody tr th:only-of-type {\n",
              "        vertical-align: middle;\n",
              "    }\n",
              "\n",
              "    .dataframe tbody tr th {\n",
              "        vertical-align: top;\n",
              "    }\n",
              "\n",
              "    .dataframe thead th {\n",
              "        text-align: right;\n",
              "    }\n",
              "</style>\n",
              "<table border=\"1\" class=\"dataframe\">\n",
              "  <thead>\n",
              "    <tr style=\"text-align: right;\">\n",
              "      <th></th>\n",
              "      <th>decimalLongitude</th>\n",
              "      <th>decimalLatitude</th>\n",
              "      <th>species</th>\n",
              "      <th>bio7</th>\n",
              "      <th>bio8</th>\n",
              "      <th>bio9</th>\n",
              "      <th>bio10</th>\n",
              "      <th>bio11</th>\n",
              "      <th>bio15</th>\n",
              "      <th>bio19</th>\n",
              "    </tr>\n",
              "  </thead>\n",
              "  <tbody>\n",
              "    <tr>\n",
              "      <th>0</th>\n",
              "      <td>11.293967</td>\n",
              "      <td>4.173409</td>\n",
              "      <td>1</td>\n",
              "      <td>119.0</td>\n",
              "      <td>241.0</td>\n",
              "      <td>260.0</td>\n",
              "      <td>261.0</td>\n",
              "      <td>239.0</td>\n",
              "      <td>63.0</td>\n",
              "      <td>574.0</td>\n",
              "    </tr>\n",
              "    <tr>\n",
              "      <th>1</th>\n",
              "      <td>5.374550</td>\n",
              "      <td>6.292117</td>\n",
              "      <td>1</td>\n",
              "      <td>116.0</td>\n",
              "      <td>250.0</td>\n",
              "      <td>269.0</td>\n",
              "      <td>277.0</td>\n",
              "      <td>250.0</td>\n",
              "      <td>66.0</td>\n",
              "      <td>945.0</td>\n",
              "    </tr>\n",
              "    <tr>\n",
              "      <th>2</th>\n",
              "      <td>15.102933</td>\n",
              "      <td>0.956955</td>\n",
              "      <td>1</td>\n",
              "      <td>125.0</td>\n",
              "      <td>244.0</td>\n",
              "      <td>237.0</td>\n",
              "      <td>253.0</td>\n",
              "      <td>237.0</td>\n",
              "      <td>43.0</td>\n",
              "      <td>202.0</td>\n",
              "    </tr>\n",
              "    <tr>\n",
              "      <th>3</th>\n",
              "      <td>11.981012</td>\n",
              "      <td>-0.179144</td>\n",
              "      <td>1</td>\n",
              "      <td>128.0</td>\n",
              "      <td>258.0</td>\n",
              "      <td>240.0</td>\n",
              "      <td>264.0</td>\n",
              "      <td>240.0</td>\n",
              "      <td>68.0</td>\n",
              "      <td>29.0</td>\n",
              "    </tr>\n",
              "    <tr>\n",
              "      <th>4</th>\n",
              "      <td>10.751233</td>\n",
              "      <td>-0.079009</td>\n",
              "      <td>1</td>\n",
              "      <td>123.0</td>\n",
              "      <td>259.0</td>\n",
              "      <td>241.0</td>\n",
              "      <td>266.0</td>\n",
              "      <td>241.0</td>\n",
              "      <td>70.0</td>\n",
              "      <td>34.0</td>\n",
              "    </tr>\n",
              "    <tr>\n",
              "      <th>...</th>\n",
              "      <td>...</td>\n",
              "      <td>...</td>\n",
              "      <td>...</td>\n",
              "      <td>...</td>\n",
              "      <td>...</td>\n",
              "      <td>...</td>\n",
              "      <td>...</td>\n",
              "      <td>...</td>\n",
              "      <td>...</td>\n",
              "      <td>...</td>\n",
              "    </tr>\n",
              "    <tr>\n",
              "      <th>14951</th>\n",
              "      <td>23.916667</td>\n",
              "      <td>-18.750000</td>\n",
              "      <td>0</td>\n",
              "      <td>287.0</td>\n",
              "      <td>248.0</td>\n",
              "      <td>167.0</td>\n",
              "      <td>258.0</td>\n",
              "      <td>167.0</td>\n",
              "      <td>109.0</td>\n",
              "      <td>0.0</td>\n",
              "    </tr>\n",
              "    <tr>\n",
              "      <th>14961</th>\n",
              "      <td>29.583333</td>\n",
              "      <td>17.916667</td>\n",
              "      <td>0</td>\n",
              "      <td>314.0</td>\n",
              "      <td>320.0</td>\n",
              "      <td>216.0</td>\n",
              "      <td>325.0</td>\n",
              "      <td>202.0</td>\n",
              "      <td>203.0</td>\n",
              "      <td>0.0</td>\n",
              "    </tr>\n",
              "    <tr>\n",
              "      <th>14971</th>\n",
              "      <td>35.583333</td>\n",
              "      <td>-10.916667</td>\n",
              "      <td>0</td>\n",
              "      <td>171.0</td>\n",
              "      <td>233.0</td>\n",
              "      <td>187.0</td>\n",
              "      <td>238.0</td>\n",
              "      <td>187.0</td>\n",
              "      <td>107.0</td>\n",
              "      <td>7.0</td>\n",
              "    </tr>\n",
              "    <tr>\n",
              "      <th>14981</th>\n",
              "      <td>22.250000</td>\n",
              "      <td>-21.916667</td>\n",
              "      <td>0</td>\n",
              "      <td>289.0</td>\n",
              "      <td>255.0</td>\n",
              "      <td>149.0</td>\n",
              "      <td>255.0</td>\n",
              "      <td>149.0</td>\n",
              "      <td>93.0</td>\n",
              "      <td>2.0</td>\n",
              "    </tr>\n",
              "    <tr>\n",
              "      <th>1499</th>\n",
              "      <td>35.250000</td>\n",
              "      <td>28.750000</td>\n",
              "      <td>0</td>\n",
              "      <td>289.0</td>\n",
              "      <td>110.0</td>\n",
              "      <td>251.0</td>\n",
              "      <td>251.0</td>\n",
              "      <td>97.0</td>\n",
              "      <td>80.0</td>\n",
              "      <td>21.0</td>\n",
              "    </tr>\n",
              "  </tbody>\n",
              "</table>\n",
              "<p>1894 rows × 10 columns</p>\n",
              "</div>\n",
              "      <button class=\"colab-df-convert\" onclick=\"convertToInteractive('df-029e95b0-224d-40da-8cd2-5ca31ae6061d')\"\n",
              "              title=\"Convert this dataframe to an interactive table.\"\n",
              "              style=\"display:none;\">\n",
              "        \n",
              "  <svg xmlns=\"http://www.w3.org/2000/svg\" height=\"24px\"viewBox=\"0 0 24 24\"\n",
              "       width=\"24px\">\n",
              "    <path d=\"M0 0h24v24H0V0z\" fill=\"none\"/>\n",
              "    <path d=\"M18.56 5.44l.94 2.06.94-2.06 2.06-.94-2.06-.94-.94-2.06-.94 2.06-2.06.94zm-11 1L8.5 8.5l.94-2.06 2.06-.94-2.06-.94L8.5 2.5l-.94 2.06-2.06.94zm10 10l.94 2.06.94-2.06 2.06-.94-2.06-.94-.94-2.06-.94 2.06-2.06.94z\"/><path d=\"M17.41 7.96l-1.37-1.37c-.4-.4-.92-.59-1.43-.59-.52 0-1.04.2-1.43.59L10.3 9.45l-7.72 7.72c-.78.78-.78 2.05 0 2.83L4 21.41c.39.39.9.59 1.41.59.51 0 1.02-.2 1.41-.59l7.78-7.78 2.81-2.81c.8-.78.8-2.07 0-2.86zM5.41 20L4 18.59l7.72-7.72 1.47 1.35L5.41 20z\"/>\n",
              "  </svg>\n",
              "      </button>\n",
              "      \n",
              "  <style>\n",
              "    .colab-df-container {\n",
              "      display:flex;\n",
              "      flex-wrap:wrap;\n",
              "      gap: 12px;\n",
              "    }\n",
              "\n",
              "    .colab-df-convert {\n",
              "      background-color: #E8F0FE;\n",
              "      border: none;\n",
              "      border-radius: 50%;\n",
              "      cursor: pointer;\n",
              "      display: none;\n",
              "      fill: #1967D2;\n",
              "      height: 32px;\n",
              "      padding: 0 0 0 0;\n",
              "      width: 32px;\n",
              "    }\n",
              "\n",
              "    .colab-df-convert:hover {\n",
              "      background-color: #E2EBFA;\n",
              "      box-shadow: 0px 1px 2px rgba(60, 64, 67, 0.3), 0px 1px 3px 1px rgba(60, 64, 67, 0.15);\n",
              "      fill: #174EA6;\n",
              "    }\n",
              "\n",
              "    [theme=dark] .colab-df-convert {\n",
              "      background-color: #3B4455;\n",
              "      fill: #D2E3FC;\n",
              "    }\n",
              "\n",
              "    [theme=dark] .colab-df-convert:hover {\n",
              "      background-color: #434B5C;\n",
              "      box-shadow: 0px 1px 3px 1px rgba(0, 0, 0, 0.15);\n",
              "      filter: drop-shadow(0px 1px 2px rgba(0, 0, 0, 0.3));\n",
              "      fill: #FFFFFF;\n",
              "    }\n",
              "  </style>\n",
              "\n",
              "      <script>\n",
              "        const buttonEl =\n",
              "          document.querySelector('#df-029e95b0-224d-40da-8cd2-5ca31ae6061d button.colab-df-convert');\n",
              "        buttonEl.style.display =\n",
              "          google.colab.kernel.accessAllowed ? 'block' : 'none';\n",
              "\n",
              "        async function convertToInteractive(key) {\n",
              "          const element = document.querySelector('#df-029e95b0-224d-40da-8cd2-5ca31ae6061d');\n",
              "          const dataTable =\n",
              "            await google.colab.kernel.invokeFunction('convertToInteractive',\n",
              "                                                     [key], {});\n",
              "          if (!dataTable) return;\n",
              "\n",
              "          const docLinkHtml = 'Like what you see? Visit the ' +\n",
              "            '<a target=\"_blank\" href=https://colab.research.google.com/notebooks/data_table.ipynb>data table notebook</a>'\n",
              "            + ' to learn more about interactive tables.';\n",
              "          element.innerHTML = '';\n",
              "          dataTable['output_type'] = 'display_data';\n",
              "          await google.colab.output.renderOutput(dataTable, element);\n",
              "          const docLink = document.createElement('div');\n",
              "          docLink.innerHTML = docLinkHtml;\n",
              "          element.appendChild(docLink);\n",
              "        }\n",
              "      </script>\n",
              "    </div>\n",
              "  </div>\n",
              "  "
            ],
            "text/plain": [
              "       decimalLongitude  decimalLatitude  species   bio7   bio8   bio9  bio10  \\\n",
              "0             11.293967         4.173409        1  119.0  241.0  260.0  261.0   \n",
              "1              5.374550         6.292117        1  116.0  250.0  269.0  277.0   \n",
              "2             15.102933         0.956955        1  125.0  244.0  237.0  253.0   \n",
              "3             11.981012        -0.179144        1  128.0  258.0  240.0  264.0   \n",
              "4             10.751233        -0.079009        1  123.0  259.0  241.0  266.0   \n",
              "...                 ...              ...      ...    ...    ...    ...    ...   \n",
              "14951         23.916667       -18.750000        0  287.0  248.0  167.0  258.0   \n",
              "14961         29.583333        17.916667        0  314.0  320.0  216.0  325.0   \n",
              "14971         35.583333       -10.916667        0  171.0  233.0  187.0  238.0   \n",
              "14981         22.250000       -21.916667        0  289.0  255.0  149.0  255.0   \n",
              "1499          35.250000        28.750000        0  289.0  110.0  251.0  251.0   \n",
              "\n",
              "       bio11  bio15  bio19  \n",
              "0      239.0   63.0  574.0  \n",
              "1      250.0   66.0  945.0  \n",
              "2      237.0   43.0  202.0  \n",
              "3      240.0   68.0   29.0  \n",
              "4      241.0   70.0   34.0  \n",
              "...      ...    ...    ...  \n",
              "14951  167.0  109.0    0.0  \n",
              "14961  202.0  203.0    0.0  \n",
              "14971  187.0  107.0    7.0  \n",
              "14981  149.0   93.0    2.0  \n",
              "1499    97.0   80.0   21.0  \n",
              "\n",
              "[1894 rows x 10 columns]"
            ]
          },
          "metadata": {},
          "execution_count": 78
        }
      ],
      "source": [
        "parrot_model"
      ]
    },
    {
      "cell_type": "code",
      "execution_count": null,
      "metadata": {
        "id": "meUzCyP8FyNg"
      },
      "outputs": [],
      "source": [
        "%R -i parrot_model\n",
        "\n"
      ]
    },
    {
      "cell_type": "code",
      "execution_count": null,
      "metadata": {
        "colab": {
          "base_uri": "https://localhost:8080/"
        },
        "id": "YEVPR0uldkW7",
        "outputId": "b64f4d2c-9b27-4bc6-da8a-c9cc04828f06"
      },
      "outputs": [
        {
          "output_type": "stream",
          "name": "stdout",
          "text": [
            "  decimalLongitude decimalLatitude species bio7 bio8 bio9 bio10 bio11 bio15\n",
            "0         11.29397        4.173409       1  119  241  260   261   239    63\n",
            "1          5.37455        6.292117       1  116  250  269   277   250    66\n",
            "2         15.10293        0.956955       1  125  244  237   253   237    43\n",
            "3         11.98101       -0.179144       1  128  258  240   264   240    68\n",
            "4         10.75123       -0.079009       1  123  259  241   266   241    70\n",
            "5         30.40788        0.397746       1  142  208  212   216   206    41\n",
            "  bio19\n",
            "0   574\n",
            "1   945\n",
            "2   202\n",
            "3    29\n",
            "4    34\n",
            "5   210\n"
          ]
        }
      ],
      "source": [
        "%%R\n",
        "\n",
        "head(parrot_model)"
      ]
    },
    {
      "cell_type": "code",
      "execution_count": null,
      "metadata": {
        "id": "_v-IPXMxe4JQ"
      },
      "outputs": [],
      "source": [
        "%%R\n",
        "\n",
        "xy = parrot_model[,1:2]"
      ]
    },
    {
      "cell_type": "code",
      "execution_count": null,
      "metadata": {
        "colab": {
          "base_uri": "https://localhost:8080/"
        },
        "id": "48YUpM79e9bs",
        "outputId": "8da57c47-2678-4de3-9b2f-d4e5f1c96adb"
      },
      "outputs": [
        {
          "output_type": "stream",
          "name": "stdout",
          "text": [
            "  decimalLongitude decimalLatitude\n",
            "0         11.29397        4.173409\n",
            "1          5.37455        6.292117\n",
            "2         15.10293        0.956955\n",
            "3         11.98101       -0.179144\n",
            "4         10.75123       -0.079009\n",
            "5         30.40788        0.397746\n"
          ]
        }
      ],
      "source": [
        "%%R\n",
        "head(xy)"
      ]
    },
    {
      "cell_type": "code",
      "execution_count": null,
      "metadata": {
        "id": "U06A-jigEMug"
      },
      "outputs": [],
      "source": [
        "%%R\n",
        "\n",
        "parrot_model$species<-factor(parrot_model$species)\n",
        "\n",
        "task = makeClassifTask(data = parrot_model, target = \"species\", positive = \"1\", fixup.data = \"quiet\", coordinates = parrot_model[,1:2],  check.data = TRUE)\n",
        "\n",
        "#task = makeClassifTask(data = parrot_model, target = \"species\", positive = \"1\", coordinates = parrot_model[,1:2])\n",
        "\n"
      ]
    },
    {
      "cell_type": "code",
      "execution_count": null,
      "metadata": {
        "colab": {
          "base_uri": "https://localhost:8080/"
        },
        "id": "jGOCnEa-_hCE",
        "outputId": "0e2058a3-3442-4901-e37f-57d202b6d872"
      },
      "outputs": [
        {
          "output_type": "stream",
          "name": "stdout",
          "text": [
            "Supervised task: parrot_model\n",
            "Type: classif\n",
            "Target: species\n",
            "Observations: 1894\n",
            "Features:\n",
            "   numerics     factors     ordered functionals \n",
            "          9           0           0           0 \n",
            "Missings: FALSE\n",
            "Has weights: FALSE\n",
            "Has blocking: FALSE\n",
            "Has coordinates: TRUE\n",
            "Classes: 2\n",
            "   0    1 \n",
            "1394  500 \n",
            "Positive class: 1\n"
          ]
        }
      ],
      "source": [
        "%%R\n",
        "\n",
        "task\n"
      ]
    },
    {
      "cell_type": "code",
      "execution_count": null,
      "metadata": {
        "colab": {
          "base_uri": "https://localhost:8080/"
        },
        "id": "w13g62_s5aBR",
        "outputId": "9d2271d7-e58b-4501-e35a-e229f249d470"
      },
      "outputs": [
        {
          "output_type": "stream",
          "name": "stderr",
          "text": [
            "R[write to console]: Warning in listLearners.character(\"classif\") :\n",
            "R[write to console]: \n",
            " \n",
            "R[write to console]:  The following learners could not be constructed, probably because their packages are not installed:\n",
            "classif.ada,classif.adaboostm1,classif.bartMachine,classif.boosting,classif.bst,classif.C50,classif.cforest,classif.clusterSVM,classif.ctree,classif.cvglmnet,classif.dbnDNN,classif.dcSVM,classif.earth,classif.evtree,classif.extraTrees,classif.fdausc.glm,classif.fdausc.kernel,classif.fdausc.knn,classif.fdausc.np,classif.FDboost,classif.fgam,classif.fnn,classif.gamboost,classif.gaterSVM,classif.gbm,classif.geoDA,classif.glmboost,classif.glmnet,classif.h2o.deeplearning,classif.h2o.gbm,classif.h2o.glm,classif.h2o.randomForest,classif.IBk,classif.J48,classif.JRip,classif.kknn,classif.LiblineaRL1L2SVC,classif.LiblineaRL1LogReg,classif.LiblineaRL2L1SVC,classif.LiblineaRL2LogReg,classif.LiblineaRL2SVC,classif.LiblineaRMultiClassSVC,classif.linDA,classif.mda,classif.mlp,classif.naiveBayes,classif.neuralnet,classif.nnTrain,classif.nodeHarvest,classif.OneR,classif.pamr,classif.PART,classif.penalize [... truncated]\n",
            "\n"
          ]
        },
        {
          "output_type": "stream",
          "name": "stdout",
          "text": [
            "                            class                   package\n",
            "1                     classif.ada                 ada,rpart\n",
            "2              classif.adaboostm1                     RWeka\n",
            "3             classif.bartMachine               bartMachine\n",
            "4                classif.binomial                     stats\n",
            "5                classif.boosting              adabag,rpart\n",
            "6                     classif.bst                 bst,rpart\n",
            "7                     classif.C50                       C50\n",
            "8                 classif.cforest                     party\n",
            "9              classif.clusterSVM        SwarmSVM,LiblineaR\n",
            "10                  classif.ctree                     party\n",
            "11               classif.cvglmnet                    glmnet\n",
            "12                 classif.dbnDNN                   deepnet\n",
            "13                  classif.dcSVM            SwarmSVM,e1071\n",
            "14                  classif.earth               earth,stats\n",
            "15                 classif.evtree                    evtree\n",
            "16             classif.extraTrees                extraTrees\n",
            "17             classif.fdausc.glm                   fda.usc\n",
            "18          classif.fdausc.kernel                   fda.usc\n",
            "19             classif.fdausc.knn                   fda.usc\n",
            "20              classif.fdausc.np                   fda.usc\n",
            "21                classif.FDboost            FDboost,mboost\n",
            "22            classif.featureless                       mlr\n",
            "23                   classif.fgam                    refund\n",
            "24                    classif.fnn                       FNN\n",
            "25               classif.gamboost                    mboost\n",
            "26               classif.gaterSVM                  SwarmSVM\n",
            "27                classif.gausspr                   kernlab\n",
            "28                    classif.gbm                       gbm\n",
            "29                  classif.geoDA               DiscriMiner\n",
            "30               classif.glmboost                    mboost\n",
            "31                 classif.glmnet                    glmnet\n",
            "32       classif.h2o.deeplearning                       h2o\n",
            "33                classif.h2o.gbm                       h2o\n",
            "34                classif.h2o.glm                       h2o\n",
            "35       classif.h2o.randomForest                       h2o\n",
            "36                    classif.IBk                     RWeka\n",
            "37                    classif.J48                     RWeka\n",
            "38                   classif.JRip                     RWeka\n",
            "39                   classif.kknn                      kknn\n",
            "40                    classif.knn                     class\n",
            "41                   classif.ksvm                   kernlab\n",
            "42                    classif.lda                      MASS\n",
            "43       classif.LiblineaRL1L2SVC                 LiblineaR\n",
            "44      classif.LiblineaRL1LogReg                 LiblineaR\n",
            "45       classif.LiblineaRL2L1SVC                 LiblineaR\n",
            "46      classif.LiblineaRL2LogReg                 LiblineaR\n",
            "47         classif.LiblineaRL2SVC                 LiblineaR\n",
            "48 classif.LiblineaRMultiClassSVC                 LiblineaR\n",
            "49                  classif.linDA               DiscriMiner\n",
            "50                 classif.logreg                     stats\n",
            "51                  classif.lssvm                   kernlab\n",
            "52                   classif.lvq1                     class\n",
            "53                    classif.mda                       mda\n",
            "54                    classif.mlp                     RSNNS\n",
            "55               classif.multinom                      nnet\n",
            "56             classif.naiveBayes                     e1071\n",
            "57              classif.neuralnet                 neuralnet\n",
            "58                   classif.nnet                      nnet\n",
            "59                classif.nnTrain                   deepnet\n",
            "60            classif.nodeHarvest               nodeHarvest\n",
            "61                   classif.OneR                     RWeka\n",
            "62                   classif.pamr                      pamr\n",
            "63                   classif.PART                     RWeka\n",
            "64              classif.penalized                 penalized\n",
            "65                    classif.plr                   stepPlr\n",
            "66             classif.plsdaCaret                 caret,pls\n",
            "67                 classif.probit                     stats\n",
            "68                    classif.qda                      MASS\n",
            "69                  classif.quaDA               DiscriMiner\n",
            "70           classif.randomForest              randomForest\n",
            "71        classif.randomForestSRC           randomForestSRC\n",
            "72                 classif.ranger                    ranger\n",
            "73                    classif.rda                      klaR\n",
            "74                 classif.rFerns                    rFerns\n",
            "75                   classif.rknn                      rknn\n",
            "76         classif.rotationForest            rotationForest\n",
            "77                  classif.rpart                     rpart\n",
            "78                    classif.RRF                       RRF\n",
            "79                 classif.saeDNN                   deepnet\n",
            "80                    classif.sda                       sda\n",
            "81              classif.sparseLDA sparseLDA,MASS,elasticnet\n",
            "82                    classif.svm                     e1071\n",
            "83                classif.xgboost                   xgboost\n"
          ]
        }
      ],
      "source": [
        "%%R\n",
        "\n",
        "listLearners(\"classif\")[c(\"class\",\"package\")]"
      ]
    },
    {
      "cell_type": "code",
      "execution_count": null,
      "metadata": {
        "colab": {
          "base_uri": "https://localhost:8080/"
        },
        "id": "kq7QVHG88gpp",
        "outputId": "5955ec47-af22-4add-a365-6c7b8b07e9d3"
      },
      "outputs": [
        {
          "output_type": "stream",
          "name": "stderr",
          "text": [
            "R[write to console]: Installing package into ‘/usr/local/lib/R/site-library’\n",
            "(as ‘lib’ is unspecified)\n",
            "\n",
            "R[write to console]: trying URL 'https://cran.rstudio.com/src/contrib/randomForest_4.7-1.tar.gz'\n",
            "\n",
            "R[write to console]: Content type 'application/x-gzip'\n",
            "R[write to console]:  length 80852 bytes (78 KB)\n",
            "\n",
            "R[write to console]: =\n",
            "R[write to console]: =\n",
            "R[write to console]: =\n",
            "R[write to console]: =\n",
            "R[write to console]: =\n",
            "R[write to console]: =\n",
            "R[write to console]: =\n",
            "R[write to console]: =\n",
            "R[write to console]: =\n",
            "R[write to console]: =\n",
            "R[write to console]: =\n",
            "R[write to console]: =\n",
            "R[write to console]: =\n",
            "R[write to console]: =\n",
            "R[write to console]: =\n",
            "R[write to console]: =\n",
            "R[write to console]: =\n",
            "R[write to console]: =\n",
            "R[write to console]: =\n",
            "R[write to console]: =\n",
            "R[write to console]: =\n",
            "R[write to console]: =\n",
            "R[write to console]: =\n",
            "R[write to console]: =\n",
            "R[write to console]: =\n",
            "R[write to console]: =\n",
            "R[write to console]: =\n",
            "R[write to console]: =\n",
            "R[write to console]: =\n",
            "R[write to console]: =\n",
            "R[write to console]: =\n",
            "R[write to console]: =\n",
            "R[write to console]: =\n",
            "R[write to console]: =\n",
            "R[write to console]: =\n",
            "R[write to console]: =\n",
            "R[write to console]: =\n",
            "R[write to console]: =\n",
            "R[write to console]: =\n",
            "R[write to console]: =\n",
            "R[write to console]: =\n",
            "R[write to console]: =\n",
            "R[write to console]: =\n",
            "R[write to console]: =\n",
            "R[write to console]: =\n",
            "R[write to console]: =\n",
            "R[write to console]: =\n",
            "R[write to console]: =\n",
            "R[write to console]: =\n",
            "R[write to console]: =\n",
            "R[write to console]: \n",
            "\n",
            "R[write to console]: downloaded 78 KB\n",
            "\n",
            "\n",
            "R[write to console]: \n",
            "\n",
            "R[write to console]: \n",
            "R[write to console]: The downloaded source packages are in\n",
            "\t‘/tmp/RtmpCbIVmN/downloaded_packages’\n",
            "R[write to console]: \n",
            "R[write to console]: \n",
            "\n"
          ]
        }
      ],
      "source": [
        "%%R\n",
        "\n",
        "install.packages(\"randomForest\")"
      ]
    },
    {
      "cell_type": "code",
      "execution_count": null,
      "metadata": {
        "colab": {
          "base_uri": "https://localhost:8080/"
        },
        "id": "Y9j1hVbH8zT6",
        "outputId": "51cd852d-47e3-4393-f029-ea9fcdc672f7"
      },
      "outputs": [
        {
          "output_type": "stream",
          "name": "stderr",
          "text": [
            "R[write to console]: randomForest 4.7-1\n",
            "\n",
            "R[write to console]: Type rfNews() to see new features/changes/bug fixes.\n",
            "\n"
          ]
        }
      ],
      "source": [
        "%%R\n",
        "\n",
        "library(\"randomForest\")"
      ]
    },
    {
      "cell_type": "markdown",
      "metadata": {
        "id": "SVCmeWs-J1nh"
      },
      "source": [
        "**Binomial regression**"
      ]
    },
    {
      "cell_type": "code",
      "execution_count": null,
      "metadata": {
        "id": "Y4FKDxFjJncT"
      },
      "outputs": [],
      "source": [
        "%%R\n",
        "\n",
        "lrnBinomial = makeLearner(\"classif.binomial\",\n",
        "                      predict.type = \"prob\",\n",
        "                      fix.factors.prediction = TRUE)"
      ]
    },
    {
      "cell_type": "markdown",
      "metadata": {
        "id": "VJuHjIC3KCdG"
      },
      "source": [
        "**Random Forest**\n"
      ]
    },
    {
      "cell_type": "code",
      "execution_count": null,
      "metadata": {
        "id": "GJ_z7cKNKB94"
      },
      "outputs": [],
      "source": [
        "%%R\n",
        "\n",
        "lrnRF = makeLearner(\"classif.randomForest\", predict.type = \"prob\", fix.factors.prediction = TRUE)"
      ]
    },
    {
      "cell_type": "markdown",
      "metadata": {
        "id": "66jtyv8PKZhM"
      },
      "source": [
        "**Support Vector Machine**"
      ]
    },
    {
      "cell_type": "code",
      "execution_count": null,
      "metadata": {
        "id": "jDELRGPyKZKV"
      },
      "outputs": [],
      "source": [
        "%%R\n",
        "lrn_ksvm = makeLearner(\"classif.ksvm\",\n",
        "                       predict.type = \"prob\",\n",
        "                       fix.factors.prediction = TRUE,\n",
        "                       kernel = \"rbfdot\")"
      ]
    },
    {
      "cell_type": "markdown",
      "metadata": {
        "id": "7bFnqeOVKiDy"
      },
      "source": [
        "*Here, I used a Gaussian kernel (Radial Basis kernel function)- to simulates a normal distribution.*"
      ]
    },
    {
      "cell_type": "markdown",
      "metadata": {
        "id": "7ijFZyavLqJs"
      },
      "source": [
        "**Model evaluation**"
      ]
    },
    {
      "cell_type": "markdown",
      "metadata": {
        "id": "6GutEcBzL8Ic"
      },
      "source": [
        "*Create resampling scheme for cross-validation. *"
      ]
    },
    {
      "cell_type": "code",
      "execution_count": null,
      "metadata": {
        "id": "8TV_W4zTK50n"
      },
      "outputs": [],
      "source": [
        "##Creates 5 folds, repeates the whole k-fold cross validation process 10 times (= 50 models) and aggregates the AUC statistic (performance metric).\n",
        "\n",
        "%%R\n",
        "\n",
        "perf_levelCV = makeResampleDesc(method = \"RepCV\", folds = 5, reps = 10)\n"
      ]
    },
    {
      "cell_type": "code",
      "execution_count": null,
      "metadata": {
        "id": "kYjtShL3Tdo1"
      },
      "outputs": [],
      "source": [
        "%%R\n",
        "\n",
        "#perf_level_spCV = makeResampleDesc(method = \"SpRepCV\", folds = 5, reps = 10)\n",
        "\n",
        "perf_level_spCV = makeResampleDesc(\"SpRepCV\", fold = 5, reps = 10)\n",
        "\n",
        "\n"
      ]
    },
    {
      "cell_type": "markdown",
      "metadata": {
        "id": "OV_RB7dGPTko"
      },
      "source": [
        "**Fit the model on all learners**"
      ]
    },
    {
      "cell_type": "markdown",
      "metadata": {
        "id": "ZbIuGg_rPh8P"
      },
      "source": [
        "**Binomial regression conventional cross validation (K fold)**"
      ]
    },
    {
      "cell_type": "code",
      "execution_count": null,
      "metadata": {
        "colab": {
          "base_uri": "https://localhost:8080/"
        },
        "id": "8yZEogwsK5L7",
        "outputId": "082f9b45-5684-465c-e98f-20ea13e51dc5"
      },
      "outputs": [
        {
          "output_type": "stream",
          "name": "stderr",
          "text": [
            "R[write to console]: Resampling: repeated cross-validation\n",
            "\n",
            "R[write to console]: Measures:             auc       \n",
            "\n",
            "R[write to console]: [Resample] iter 1:    0.9493699 \n",
            "\n",
            "R[write to console]: [Resample] iter 2:    0.9550699 \n",
            "\n",
            "R[write to console]: [Resample] iter 3:    0.9619948 \n",
            "\n",
            "R[write to console]: [Resample] iter 4:    0.9485272 \n",
            "\n",
            "R[write to console]: [Resample] iter 5:    0.9528102 \n",
            "\n",
            "R[write to console]: [Resample] iter 6:    0.9581169 \n",
            "\n",
            "R[write to console]: [Resample] iter 7:    0.9584657 \n",
            "\n",
            "R[write to console]: [Resample] iter 8:    0.9535213 \n",
            "\n",
            "R[write to console]: [Resample] iter 9:    0.9329503 \n",
            "\n",
            "R[write to console]: [Resample] iter 10:   0.9633488 \n",
            "\n",
            "R[write to console]: [Resample] iter 11:   0.9556555 \n",
            "\n",
            "R[write to console]: [Resample] iter 12:   0.9437505 \n",
            "\n",
            "R[write to console]: [Resample] iter 13:   0.9529469 \n",
            "\n",
            "R[write to console]: [Resample] iter 14:   0.9603755 \n",
            "\n",
            "R[write to console]: [Resample] iter 15:   0.9593751 \n",
            "\n",
            "R[write to console]: [Resample] iter 16:   0.9518533 \n",
            "\n",
            "R[write to console]: [Resample] iter 17:   0.9605363 \n",
            "\n",
            "R[write to console]: [Resample] iter 18:   0.9558021 \n",
            "\n",
            "R[write to console]: [Resample] iter 19:   0.9507800 \n",
            "\n",
            "R[write to console]: [Resample] iter 20:   0.9486380 \n",
            "\n",
            "R[write to console]: [Resample] iter 21:   0.9545905 \n",
            "\n",
            "R[write to console]: [Resample] iter 22:   0.9504495 \n",
            "\n",
            "R[write to console]: [Resample] iter 23:   0.9625887 \n",
            "\n",
            "R[write to console]: [Resample] iter 24:   0.9623455 \n",
            "\n",
            "R[write to console]: [Resample] iter 25:   0.9355391 \n",
            "\n",
            "R[write to console]: [Resample] iter 26:   0.9570146 \n",
            "\n",
            "R[write to console]: [Resample] iter 27:   0.9718978 \n",
            "\n",
            "R[write to console]: [Resample] iter 28:   0.9407355 \n",
            "\n",
            "R[write to console]: [Resample] iter 29:   0.9453945 \n",
            "\n",
            "R[write to console]: [Resample] iter 30:   0.9531337 \n",
            "\n",
            "R[write to console]: [Resample] iter 31:   0.9478537 \n",
            "\n",
            "R[write to console]: [Resample] iter 32:   0.9580814 \n",
            "\n",
            "R[write to console]: [Resample] iter 33:   0.9733356 \n",
            "\n",
            "R[write to console]: [Resample] iter 34:   0.9552537 \n",
            "\n",
            "R[write to console]: [Resample] iter 35:   0.9341137 \n",
            "\n",
            "R[write to console]: [Resample] iter 36:   0.9579819 \n",
            "\n",
            "R[write to console]: [Resample] iter 37:   0.9524808 \n",
            "\n",
            "R[write to console]: [Resample] iter 38:   0.9592522 \n",
            "\n",
            "R[write to console]: [Resample] iter 39:   0.9616304 \n",
            "\n",
            "R[write to console]: [Resample] iter 40:   0.9329726 \n",
            "\n",
            "R[write to console]: [Resample] iter 41:   0.9557862 \n",
            "\n",
            "R[write to console]: [Resample] iter 42:   0.9537919 \n",
            "\n",
            "R[write to console]: [Resample] iter 43:   0.9461739 \n",
            "\n",
            "R[write to console]: [Resample] iter 44:   0.9529151 \n",
            "\n",
            "R[write to console]: [Resample] iter 45:   0.9605001 \n",
            "\n",
            "R[write to console]: [Resample] iter 46:   0.9559776 \n",
            "\n",
            "R[write to console]: [Resample] iter 47:   0.9494436 \n",
            "\n",
            "R[write to console]: [Resample] iter 48:   0.9680351 \n",
            "\n",
            "R[write to console]: [Resample] iter 49:   0.9466182 \n",
            "\n",
            "R[write to console]: [Resample] iter 50:   0.9522038 \n",
            "\n",
            "R[write to console]: \n",
            "\n",
            "\n",
            "R[write to console]: Aggregated Result: auc.test.mean=0.9536396\n",
            "\n",
            "R[write to console]: \n",
            "\n",
            "\n"
          ]
        }
      ],
      "source": [
        "%%R\n",
        "\n",
        "set.seed(100)\n",
        "\n",
        "\n",
        "#cvBinomial = resample(learner = lrnBinomial, task =task, resampling = perf_levelCV, measures = mlr::auc)\n",
        "\n",
        "cvBinomial = resample(learner = lrnBinomial, task = task, resampling = perf_levelCV, measures = list(auc))\n"
      ]
    },
    {
      "cell_type": "markdown",
      "metadata": {
        "id": "HpvsledlcTBs"
      },
      "source": [
        "** Use Spatial disjoint method for CV and compare the AUC**"
      ]
    },
    {
      "cell_type": "code",
      "execution_count": null,
      "metadata": {
        "colab": {
          "base_uri": "https://localhost:8080/"
        },
        "id": "uUQr1NW2bp1O",
        "outputId": "978376c7-11e0-4167-82d0-2602b943e786"
      },
      "outputs": [
        {
          "output_type": "stream",
          "name": "stderr",
          "text": [
            "R[write to console]: Resampling: repeated spatial cross-validation\n",
            "\n",
            "R[write to console]: Measures:             auc       \n",
            "\n",
            "R[write to console]: [Resample] iter 1:          NA  \n",
            "\n",
            "R[write to console]: [Resample] iter 2:    0.6637942 \n",
            "\n",
            "R[write to console]: [Resample] iter 3:    0.9475643 \n",
            "\n",
            "R[write to console]: [Resample] iter 4:    0.8783438 \n",
            "\n",
            "R[write to console]: [Resample] iter 5:          NA  \n",
            "\n",
            "R[write to console]: [Resample] iter 6:          NA  \n",
            "\n",
            "R[write to console]: [Resample] iter 7:          NA  \n",
            "\n",
            "R[write to console]: [Resample] iter 8:    0.8755315 \n",
            "\n",
            "R[write to console]: [Resample] iter 9:    0.9564314 \n",
            "\n",
            "R[write to console]: [Resample] iter 10:   0.6483291 \n",
            "\n",
            "R[write to console]: [Resample] iter 11:   0.1924399 \n",
            "\n",
            "R[write to console]: [Resample] iter 12:         NA  \n",
            "\n",
            "R[write to console]: [Resample] iter 13:   0.7046251 \n",
            "\n",
            "R[write to console]: [Resample] iter 14:   0.8239624 \n",
            "\n",
            "R[write to console]: [Resample] iter 15:         NA  \n",
            "\n",
            "R[write to console]: [Resample] iter 16:   0.8254246 \n",
            "\n",
            "R[write to console]: [Resample] iter 17:   0.1911263 \n",
            "\n",
            "R[write to console]: [Resample] iter 18:         NA  \n",
            "\n",
            "R[write to console]: [Resample] iter 19:         NA  \n",
            "\n",
            "R[write to console]: [Resample] iter 20:   0.7014578 \n",
            "\n",
            "R[write to console]: [Resample] iter 21:   0.7764401 \n",
            "\n",
            "R[write to console]: [Resample] iter 22:         NA  \n",
            "\n",
            "R[write to console]: [Resample] iter 23:         NA  \n",
            "\n",
            "R[write to console]: [Resample] iter 24:   0.7806959 \n",
            "\n",
            "R[write to console]: [Resample] iter 25:   0.9245756 \n",
            "\n",
            "R[write to console]: [Resample] iter 26:   0.7412547 \n",
            "\n",
            "R[write to console]: [Resample] iter 27:   0.9654463 \n",
            "\n",
            "R[write to console]: [Resample] iter 28:   0.8055945 \n",
            "\n",
            "R[write to console]: [Resample] iter 29:   0.2055749 \n",
            "\n",
            "R[write to console]: [Resample] iter 30:         NA  \n",
            "\n",
            "R[write to console]: [Resample] iter 31:         NA  \n",
            "\n",
            "R[write to console]: [Resample] iter 32:         NA  \n",
            "\n",
            "R[write to console]: [Resample] iter 33:   0.1911263 \n",
            "\n",
            "R[write to console]: [Resample] iter 34:   0.8262114 \n",
            "\n",
            "R[write to console]: [Resample] iter 35:   0.7014578 \n",
            "\n",
            "R[write to console]: [Resample] iter 36:   0.7858813 \n",
            "\n",
            "R[write to console]: [Resample] iter 37:         NA  \n",
            "\n",
            "R[write to console]: [Resample] iter 38:   0.9144336 \n",
            "\n",
            "R[write to console]: [Resample] iter 39:         NA  \n",
            "\n",
            "R[write to console]: [Resample] iter 40:   0.6222944 \n",
            "\n",
            "R[write to console]: [Resample] iter 41:   0.9329343 \n",
            "\n",
            "R[write to console]: [Resample] iter 42:         NA  \n",
            "\n",
            "R[write to console]: [Resample] iter 43:   0.8262575 \n",
            "\n",
            "R[write to console]: [Resample] iter 44:   0.7220627 \n",
            "\n",
            "R[write to console]: [Resample] iter 45:         NA  \n",
            "\n",
            "R[write to console]: [Resample] iter 46:   0.9329343 \n",
            "\n",
            "R[write to console]: [Resample] iter 47:         NA  \n",
            "\n",
            "R[write to console]: [Resample] iter 48:         NA  \n",
            "\n",
            "R[write to console]: [Resample] iter 49:   0.8262575 \n",
            "\n",
            "R[write to console]: [Resample] iter 50:   0.7220627 \n",
            "\n",
            "R[write to console]: \n",
            "\n",
            "\n",
            "R[write to console]: Aggregated Result: auc.test.mean=      NA\n",
            "\n",
            "R[write to console]: \n",
            "\n",
            "\n"
          ]
        }
      ],
      "source": [
        "%%R\n",
        "\n",
        "set.seed(123)\n",
        "\n",
        "#sp_cvBinomial = resample(learner = lrnBinomial, task =task, resampling = perf_level_spCV, measures = mlr::auc)\n",
        "\n",
        "sp_cvBinomial = resample(learner = lrnBinomial, task = task, resampling = perf_level_spCV, measures = list(auc))\n",
        "\n"
      ]
    },
    {
      "cell_type": "markdown",
      "metadata": {
        "id": "GfMboUWKPtDw"
      },
      "source": [
        "**Random Forest CV**"
      ]
    },
    {
      "cell_type": "code",
      "execution_count": null,
      "metadata": {
        "colab": {
          "base_uri": "https://localhost:8080/"
        },
        "id": "yGyCjibbPw5m",
        "outputId": "d33948ec-f68e-40fe-d41c-6153193a50a5"
      },
      "outputs": [
        {
          "output_type": "stream",
          "name": "stderr",
          "text": [
            "R[write to console]: Resampling: repeated cross-validation\n",
            "\n",
            "R[write to console]: Measures:             auc       \n",
            "\n",
            "R[write to console]: [Resample] iter 1:    0.9787105 \n",
            "\n",
            "R[write to console]: [Resample] iter 2:    0.9818149 \n",
            "\n",
            "R[write to console]: [Resample] iter 3:    0.9755512 \n",
            "\n",
            "R[write to console]: [Resample] iter 4:    0.9801780 \n",
            "\n",
            "R[write to console]: [Resample] iter 5:    0.9801429 \n",
            "\n",
            "R[write to console]: [Resample] iter 6:    0.9864839 \n",
            "\n",
            "R[write to console]: [Resample] iter 7:    0.9791804 \n",
            "\n",
            "R[write to console]: [Resample] iter 8:    0.9765085 \n",
            "\n",
            "R[write to console]: [Resample] iter 9:    0.9919290 \n",
            "\n",
            "R[write to console]: [Resample] iter 10:   0.9692014 \n",
            "\n",
            "R[write to console]: [Resample] iter 11:   0.9826911 \n",
            "\n",
            "R[write to console]: [Resample] iter 12:   0.9759999 \n",
            "\n",
            "R[write to console]: [Resample] iter 13:   0.9826646 \n",
            "\n",
            "R[write to console]: [Resample] iter 14:   0.9738890 \n",
            "\n",
            "R[write to console]: [Resample] iter 15:   0.9797350 \n",
            "\n",
            "R[write to console]: [Resample] iter 16:   0.9788530 \n",
            "\n",
            "R[write to console]: [Resample] iter 17:   0.9750185 \n",
            "\n",
            "R[write to console]: [Resample] iter 18:   0.9819496 \n",
            "\n",
            "R[write to console]: [Resample] iter 19:   0.9841502 \n",
            "\n",
            "R[write to console]: [Resample] iter 20:   0.9750733 \n",
            "\n",
            "R[write to console]: [Resample] iter 21:   0.9727542 \n",
            "\n",
            "R[write to console]: [Resample] iter 22:   0.9762030 \n",
            "\n",
            "R[write to console]: [Resample] iter 23:   0.9678850 \n",
            "\n",
            "R[write to console]: [Resample] iter 24:   0.9797728 \n",
            "\n",
            "R[write to console]: [Resample] iter 25:   0.9883539 \n",
            "\n",
            "R[write to console]: [Resample] iter 26:   0.9778486 \n",
            "\n",
            "R[write to console]: [Resample] iter 27:   0.9845699 \n",
            "\n",
            "R[write to console]: [Resample] iter 28:   0.9704615 \n",
            "\n",
            "R[write to console]: [Resample] iter 29:   0.9868967 \n",
            "\n",
            "R[write to console]: [Resample] iter 30:   0.9808961 \n",
            "\n",
            "R[write to console]: [Resample] iter 31:   0.9815468 \n",
            "\n",
            "R[write to console]: [Resample] iter 32:   0.9716270 \n",
            "\n",
            "R[write to console]: [Resample] iter 33:   0.9803558 \n",
            "\n",
            "R[write to console]: [Resample] iter 34:   0.9867868 \n",
            "\n",
            "R[write to console]: [Resample] iter 35:   0.9690476 \n",
            "\n",
            "R[write to console]: [Resample] iter 36:   0.9669969 \n",
            "\n",
            "R[write to console]: [Resample] iter 37:   0.9902756 \n",
            "\n",
            "R[write to console]: [Resample] iter 38:   0.9680506 \n",
            "\n",
            "R[write to console]: [Resample] iter 39:   0.9843472 \n",
            "\n",
            "R[write to console]: [Resample] iter 40:   0.9812824 \n",
            "\n",
            "R[write to console]: [Resample] iter 41:   0.9770964 \n",
            "\n",
            "R[write to console]: [Resample] iter 42:   0.9825128 \n",
            "\n",
            "R[write to console]: [Resample] iter 43:   0.9657089 \n",
            "\n",
            "R[write to console]: [Resample] iter 44:   0.9808391 \n",
            "\n",
            "R[write to console]: [Resample] iter 45:   0.9885431 \n",
            "\n",
            "R[write to console]: [Resample] iter 46:   0.9851755 \n",
            "\n",
            "R[write to console]: [Resample] iter 47:   0.9761333 \n",
            "\n",
            "R[write to console]: [Resample] iter 48:   0.9724281 \n",
            "\n",
            "R[write to console]: [Resample] iter 49:   0.9817887 \n",
            "\n",
            "R[write to console]: [Resample] iter 50:   0.9748925 \n",
            "\n",
            "R[write to console]: \n",
            "\n",
            "\n",
            "R[write to console]: Aggregated Result: auc.test.mean=0.9788160\n",
            "\n",
            "R[write to console]: \n",
            "\n",
            "\n"
          ]
        }
      ],
      "source": [
        "%%R\n",
        "\n",
        "cvRF = resample(learner = lrnRF, task =task, resampling = perf_levelCV, measures = list(auc))"
      ]
    },
    {
      "cell_type": "markdown",
      "metadata": {
        "id": "82rlSuoSceh3"
      },
      "source": [
        "Spatial RF CV"
      ]
    },
    {
      "cell_type": "code",
      "execution_count": null,
      "metadata": {
        "colab": {
          "base_uri": "https://localhost:8080/"
        },
        "id": "-ppMDRmOcdul",
        "outputId": "1e7ba329-3ea1-4505-ea85-e052ae63d833"
      },
      "outputs": [
        {
          "output_type": "stream",
          "name": "stderr",
          "text": [
            "R[write to console]: Resampling: repeated spatial cross-validation\n",
            "\n",
            "R[write to console]: Measures:             auc       \n",
            "\n",
            "R[write to console]: [Resample] iter 1:          NA  \n",
            "\n",
            "R[write to console]: [Resample] iter 2:    0.7522937 \n",
            "\n",
            "R[write to console]: [Resample] iter 3:    0.9430377 \n",
            "\n",
            "R[write to console]: [Resample] iter 4:    0.8751483 \n",
            "\n",
            "R[write to console]: [Resample] iter 5:          NA  \n",
            "\n",
            "R[write to console]: [Resample] iter 6:          NA  \n",
            "\n",
            "R[write to console]: [Resample] iter 7:          NA  \n",
            "\n",
            "R[write to console]: [Resample] iter 8:    0.8686844 \n",
            "\n",
            "R[write to console]: [Resample] iter 9:    0.9340326 \n",
            "\n",
            "R[write to console]: [Resample] iter 10:   0.7086205 \n",
            "\n",
            "R[write to console]: [Resample] iter 11:   0.5206186 \n",
            "\n",
            "R[write to console]: [Resample] iter 12:         NA  \n",
            "\n",
            "R[write to console]: [Resample] iter 13:   0.7746944 \n",
            "\n",
            "R[write to console]: [Resample] iter 14:   0.7185519 \n",
            "\n",
            "R[write to console]: [Resample] iter 15:         NA  \n",
            "\n",
            "R[write to console]: [Resample] iter 16:   0.7370818 \n",
            "\n",
            "R[write to console]: [Resample] iter 17:   0.6228669 \n",
            "\n",
            "R[write to console]: [Resample] iter 18:         NA  \n",
            "\n",
            "R[write to console]: [Resample] iter 19:         NA  \n",
            "\n",
            "R[write to console]: [Resample] iter 20:   0.7672112 \n",
            "\n",
            "R[write to console]: [Resample] iter 21:   0.8259115 \n",
            "\n",
            "R[write to console]: [Resample] iter 22:         NA  \n",
            "\n",
            "R[write to console]: [Resample] iter 23:         NA  \n",
            "\n",
            "R[write to console]: [Resample] iter 24:   0.8381010 \n",
            "\n",
            "R[write to console]: [Resample] iter 25:   0.9461484 \n",
            "\n",
            "R[write to console]: [Resample] iter 26:   0.7645125 \n",
            "\n",
            "R[write to console]: [Resample] iter 27:   0.9638009 \n",
            "\n",
            "R[write to console]: [Resample] iter 28:   0.7772171 \n",
            "\n",
            "R[write to console]: [Resample] iter 29:   0.6498258 \n",
            "\n",
            "R[write to console]: [Resample] iter 30:         NA  \n",
            "\n",
            "R[write to console]: [Resample] iter 31:         NA  \n",
            "\n",
            "R[write to console]: [Resample] iter 32:         NA  \n",
            "\n",
            "R[write to console]: [Resample] iter 33:   0.5972696 \n",
            "\n",
            "R[write to console]: [Resample] iter 34:   0.7371320 \n",
            "\n",
            "R[write to console]: [Resample] iter 35:   0.7653285 \n",
            "\n",
            "R[write to console]: [Resample] iter 36:   0.7282712 \n",
            "\n",
            "R[write to console]: [Resample] iter 37:         NA  \n",
            "\n",
            "R[write to console]: [Resample] iter 38:   0.9542741 \n",
            "\n",
            "R[write to console]: [Resample] iter 39:         NA  \n",
            "\n",
            "R[write to console]: [Resample] iter 40:   0.8560606 \n",
            "\n",
            "R[write to console]: [Resample] iter 41:   0.9559937 \n",
            "\n",
            "R[write to console]: [Resample] iter 42:         NA  \n",
            "\n",
            "R[write to console]: [Resample] iter 43:   0.8594523 \n",
            "\n",
            "R[write to console]: [Resample] iter 44:   0.7706983 \n",
            "\n",
            "R[write to console]: [Resample] iter 45:         NA  \n",
            "\n",
            "R[write to console]: [Resample] iter 46:   0.9558176 \n",
            "\n",
            "R[write to console]: [Resample] iter 47:         NA  \n",
            "\n",
            "R[write to console]: [Resample] iter 48:         NA  \n",
            "\n",
            "R[write to console]: [Resample] iter 49:   0.8533035 \n",
            "\n",
            "R[write to console]: [Resample] iter 50:   0.7713775 \n",
            "\n",
            "R[write to console]: \n",
            "\n",
            "\n",
            "R[write to console]: Aggregated Result: auc.test.mean=      NA\n",
            "\n",
            "R[write to console]: \n",
            "\n",
            "\n"
          ]
        }
      ],
      "source": [
        "%%R\n",
        "\n",
        "set.seed(123)\n",
        "sp_cvRF = resample(learner = lrnRF, task = task, resampling = perf_level_spCV, measures = list(auc))"
      ]
    },
    {
      "cell_type": "markdown",
      "metadata": {
        "id": "TUHA8usKQitl"
      },
      "source": [
        "**Support Vector Machine** CV"
      ]
    },
    {
      "cell_type": "code",
      "execution_count": null,
      "metadata": {
        "colab": {
          "base_uri": "https://localhost:8080/"
        },
        "id": "2Lxi9ckKQlrn",
        "outputId": "32e9cd25-c9a4-48c6-9d9d-6c1047f22597"
      },
      "outputs": [
        {
          "output_type": "stream",
          "name": "stderr",
          "text": [
            "R[write to console]: Resampling: repeated cross-validation\n",
            "\n",
            "R[write to console]: Measures:             auc       \n",
            "\n",
            "R[write to console]: [Resample] iter 1:    0.9659007 \n",
            "\n",
            "R[write to console]: [Resample] iter 2:    0.9837084 \n",
            "\n",
            "R[write to console]: [Resample] iter 3:    0.9637846 \n",
            "\n",
            "R[write to console]: [Resample] iter 4:    0.9650896 \n",
            "\n",
            "R[write to console]: [Resample] iter 5:    0.9449048 \n",
            "\n",
            "R[write to console]: [Resample] iter 6:    0.9714152 \n",
            "\n",
            "R[write to console]: [Resample] iter 7:    0.9558791 \n",
            "\n",
            "R[write to console]: [Resample] iter 8:    0.9777098 \n",
            "\n",
            "R[write to console]: [Resample] iter 9:    0.9655329 \n",
            "\n",
            "R[write to console]: [Resample] iter 10:   0.9495730 \n",
            "\n",
            "R[write to console]: [Resample] iter 11:   0.9645794 \n",
            "\n",
            "R[write to console]: [Resample] iter 12:   0.9692387 \n",
            "\n",
            "R[write to console]: [Resample] iter 13:   0.9817842 \n",
            "\n",
            "R[write to console]: [Resample] iter 14:   0.9588932 \n",
            "\n",
            "R[write to console]: [Resample] iter 15:   0.9506159 \n",
            "\n",
            "R[write to console]: [Resample] iter 16:   0.9739583 \n",
            "\n",
            "R[write to console]: [Resample] iter 17:   0.9717204 \n",
            "\n",
            "R[write to console]: [Resample] iter 18:   0.9637880 \n",
            "\n",
            "R[write to console]: [Resample] iter 19:   0.9701635 \n",
            "\n",
            "R[write to console]: [Resample] iter 20:   0.9443032 \n",
            "\n",
            "R[write to console]: [Resample] iter 21:   0.9601654 \n",
            "\n",
            "R[write to console]: [Resample] iter 22:   0.9736001 \n",
            "\n",
            "R[write to console]: [Resample] iter 23:   0.9739807 \n",
            "\n",
            "R[write to console]: [Resample] iter 24:   0.9663460 \n",
            "\n",
            "R[write to console]: [Resample] iter 25:   0.9488181 \n",
            "\n",
            "R[write to console]: [Resample] iter 26:   0.9773999 \n",
            "\n",
            "R[write to console]: [Resample] iter 27:   0.9663035 \n",
            "\n",
            "R[write to console]: [Resample] iter 28:   0.9536691 \n",
            "\n",
            "R[write to console]: [Resample] iter 29:   0.9683548 \n",
            "\n",
            "R[write to console]: [Resample] iter 30:   0.9616076 \n",
            "\n",
            "R[write to console]: [Resample] iter 31:   0.9766955 \n",
            "\n",
            "R[write to console]: [Resample] iter 32:   0.9676152 \n",
            "\n",
            "R[write to console]: [Resample] iter 33:   0.9576165 \n",
            "\n",
            "R[write to console]: [Resample] iter 34:   0.9557525 \n",
            "\n",
            "R[write to console]: [Resample] iter 35:   0.9671978 \n",
            "\n",
            "R[write to console]: [Resample] iter 36:   0.9726523 \n",
            "\n",
            "R[write to console]: [Resample] iter 37:   0.9711485 \n",
            "\n",
            "R[write to console]: [Resample] iter 38:   0.9556512 \n",
            "\n",
            "R[write to console]: [Resample] iter 39:   0.9599703 \n",
            "\n",
            "R[write to console]: [Resample] iter 40:   0.9641259 \n",
            "\n",
            "R[write to console]: [Resample] iter 41:   0.9620093 \n",
            "\n",
            "R[write to console]: [Resample] iter 42:   0.9586137 \n",
            "\n",
            "R[write to console]: [Resample] iter 43:   0.9656863 \n",
            "\n",
            "R[write to console]: [Resample] iter 44:   0.9468036 \n",
            "\n",
            "R[write to console]: [Resample] iter 45:   0.9777729 \n",
            "\n",
            "R[write to console]: [Resample] iter 46:   0.9655627 \n",
            "\n",
            "R[write to console]: [Resample] iter 47:   0.9537018 \n",
            "\n",
            "R[write to console]: [Resample] iter 48:   0.9662369 \n",
            "\n",
            "R[write to console]: [Resample] iter 49:   0.9813871 \n",
            "\n",
            "R[write to console]: [Resample] iter 50:   0.9630816 \n",
            "\n",
            "R[write to console]: \n",
            "\n",
            "\n",
            "R[write to console]: Aggregated Result: auc.test.mean=0.9646414\n",
            "\n",
            "R[write to console]: \n",
            "\n",
            "\n"
          ]
        }
      ],
      "source": [
        "%%R\n",
        "\n",
        "cvksvm = resample(learner = lrn_ksvm, task =task, resampling = perf_levelCV, measures = list(auc))"
      ]
    },
    {
      "cell_type": "code",
      "execution_count": null,
      "metadata": {
        "colab": {
          "base_uri": "https://localhost:8080/"
        },
        "id": "tLBmeeeYB7sd",
        "outputId": "c4bfc495-c163-4d03-a7f6-7f20965f6893"
      },
      "outputs": [
        {
          "output_type": "stream",
          "name": "stderr",
          "text": [
            "R[write to console]: Resampling: repeated spatial cross-validation\n",
            "\n",
            "R[write to console]: Measures:             auc       \n",
            "\n",
            "R[write to console]: [Resample] iter 1:          NA  \n",
            "\n",
            "R[write to console]: [Resample] iter 2:    0.6064094 \n",
            "\n",
            "R[write to console]: [Resample] iter 3:    0.9726103 \n",
            "\n",
            "R[write to console]: [Resample] iter 4:    0.8450569 \n",
            "\n",
            "R[write to console]: [Resample] iter 5:          NA  \n",
            "\n",
            "R[write to console]: [Resample] iter 6:          NA  \n",
            "\n",
            "R[write to console]: [Resample] iter 7:          NA  \n",
            "\n",
            "R[write to console]: [Resample] iter 8:    0.8201444 \n",
            "\n",
            "R[write to console]: [Resample] iter 9:    0.9766052 \n",
            "\n",
            "R[write to console]: [Resample] iter 10:   0.5791161 \n",
            "\n",
            "R[write to console]: [Resample] iter 11:   0.2164948 \n",
            "\n",
            "R[write to console]: [Resample] iter 12:         NA  \n",
            "\n",
            "R[write to console]: [Resample] iter 13:   0.6108116 \n",
            "\n",
            "R[write to console]: [Resample] iter 14:   0.8108260 \n",
            "\n",
            "R[write to console]: [Resample] iter 15:         NA  \n",
            "\n",
            "R[write to console]: [Resample] iter 16:   0.8212558 \n",
            "\n",
            "R[write to console]: [Resample] iter 17:   0.2662116 \n",
            "\n",
            "R[write to console]: [Resample] iter 18:         NA  \n",
            "\n",
            "R[write to console]: [Resample] iter 19:         NA  \n",
            "\n",
            "R[write to console]: [Resample] iter 20:   0.6145044 \n",
            "\n",
            "R[write to console]: [Resample] iter 21:   0.7226897 \n",
            "\n",
            "R[write to console]: [Resample] iter 22:         NA  \n",
            "\n",
            "R[write to console]: [Resample] iter 23:         NA  \n",
            "\n",
            "R[write to console]: [Resample] iter 24:   0.6333040 \n",
            "\n",
            "R[write to console]: [Resample] iter 25:   0.9565972 \n",
            "\n",
            "R[write to console]: [Resample] iter 26:   0.6895238 \n",
            "\n",
            "R[write to console]: [Resample] iter 27:   0.9836487 \n",
            "\n",
            "R[write to console]: [Resample] iter 28:   0.8218858 \n",
            "\n",
            "R[write to console]: [Resample] iter 29:   0.2404181 \n",
            "\n",
            "R[write to console]: [Resample] iter 30:         NA  \n",
            "\n",
            "R[write to console]: [Resample] iter 31:         NA  \n",
            "\n",
            "R[write to console]: [Resample] iter 32:         NA  \n",
            "\n",
            "R[write to console]: [Resample] iter 33:   0.4368601 \n",
            "\n",
            "R[write to console]: [Resample] iter 34:   0.8232723 \n",
            "\n",
            "R[write to console]: [Resample] iter 35:   0.6148561 \n",
            "\n",
            "R[write to console]: [Resample] iter 36:   0.7707963 \n",
            "\n",
            "R[write to console]: [Resample] iter 37:         NA  \n",
            "\n",
            "R[write to console]: [Resample] iter 38:   0.9422740 \n",
            "\n",
            "R[write to console]: [Resample] iter 39:         NA  \n",
            "\n",
            "R[write to console]: [Resample] iter 40:   0.7272727 \n",
            "\n",
            "R[write to console]: [Resample] iter 41:   0.9633281 \n",
            "\n",
            "R[write to console]: [Resample] iter 42:         NA  \n",
            "\n",
            "R[write to console]: [Resample] iter 43:   0.6856991 \n",
            "\n",
            "R[write to console]: [Resample] iter 44:   0.6799697 \n",
            "\n",
            "R[write to console]: [Resample] iter 45:         NA  \n",
            "\n",
            "R[write to console]: [Resample] iter 46:   0.9635041 \n",
            "\n",
            "R[write to console]: [Resample] iter 47:         NA  \n",
            "\n",
            "R[write to console]: [Resample] iter 48:         NA  \n",
            "\n",
            "R[write to console]: [Resample] iter 49:   0.6893649 \n",
            "\n",
            "R[write to console]: [Resample] iter 50:   0.6818956 \n",
            "\n",
            "R[write to console]: \n",
            "\n",
            "\n",
            "R[write to console]: Aggregated Result: auc.test.mean=      NA\n",
            "\n",
            "R[write to console]: \n",
            "\n",
            "\n"
          ]
        }
      ],
      "source": [
        "%%R\n",
        "\n",
        "set.seed(123)\n",
        "sp_cvksm = resample(learner = lrn_ksvm, task = task, resampling = perf_level_spCV, measures = list(auc))"
      ]
    },
    {
      "cell_type": "markdown",
      "metadata": {
        "id": "E8GR3Iq2Q6M1"
      },
      "source": [
        "**Hyperparamter Model tuning**"
      ]
    },
    {
      "cell_type": "code",
      "execution_count": null,
      "metadata": {
        "id": "prtxv5MiQsxX"
      },
      "outputs": [],
      "source": [
        "%%R\n",
        "\n",
        "# spatial partitioning\n",
        "\n",
        "#tune_level = makeResampleDesc(method = \"SpCV\", iters = 5)\n",
        "\n",
        "tune_level = makeResampleDesc(\"SpRepCV\", reps = 5)\n",
        "\n",
        "# specifying random parameter value search\n",
        "ctrl = makeTuneControlRandom(maxit = 10L)"
      ]
    },
    {
      "cell_type": "code",
      "execution_count": null,
      "metadata": {
        "colab": {
          "base_uri": "https://localhost:8080/"
        },
        "id": "aaY8DLe0RcAv",
        "outputId": "c3f2ca96-42cb-452c-bf30-d6d165df4338"
      },
      "outputs": [
        {
          "output_type": "stream",
          "name": "stdout",
          "text": [
            "                     Type  len   Def   Constr Req Tunable Trafo\n",
            "ntree             integer    -   500 1 to Inf   -    TRUE     -\n",
            "mtry              integer    -     - 1 to Inf   -    TRUE     -\n",
            "replace           logical    -  TRUE        -   -    TRUE     -\n",
            "classwt     numericvector <NA>     - 0 to Inf   -    TRUE     -\n",
            "cutoff      numericvector <NA>     -   0 to 1   -    TRUE     -\n",
            "strata            untyped    -     -        -   -   FALSE     -\n",
            "sampsize    integervector <NA>     - 1 to Inf   -    TRUE     -\n",
            "nodesize          integer    -     1 1 to Inf   -    TRUE     -\n",
            "maxnodes          integer    -     - 1 to Inf   -    TRUE     -\n",
            "importance        logical    - FALSE        -   -    TRUE     -\n",
            "localImp          logical    - FALSE        -   -    TRUE     -\n",
            "proximity         logical    - FALSE        -   -   FALSE     -\n",
            "oob.prox          logical    -     -        -   Y   FALSE     -\n",
            "norm.votes        logical    -  TRUE        -   -   FALSE     -\n",
            "do.trace          logical    - FALSE        -   -   FALSE     -\n",
            "keep.forest       logical    -  TRUE        -   -   FALSE     -\n",
            "keep.inbag        logical    - FALSE        -   -   FALSE     -\n"
          ]
        }
      ],
      "source": [
        "%%R\n",
        "\n",
        "getParamSet(lrnRF) #check which hyperparameters are available for tuning\n"
      ]
    },
    {
      "cell_type": "code",
      "execution_count": null,
      "metadata": {
        "id": "b_sLxT1RSEGd"
      },
      "outputs": [],
      "source": [
        "%%R\n",
        "\n",
        "paramsRF <- makeParamSet(\n",
        "  makeIntegerParam(\"mtry\",lower = 1,upper = 7), #no of predictors = 7\n",
        "  makeIntegerParam(\"nodesize\",lower = 1,upper = 10)\n",
        ")"
      ]
    },
    {
      "cell_type": "code",
      "execution_count": null,
      "metadata": {
        "colab": {
          "base_uri": "https://localhost:8080/"
        },
        "id": "TSAzUSxZSquS",
        "outputId": "8fd5d286-0b71-4a92-b679-ca276db9f9b9"
      },
      "outputs": [
        {
          "output_type": "stream",
          "name": "stderr",
          "text": [
            "R[write to console]: [Tune] Started tuning learner classif.randomForest for parameter set:\n",
            "\n",
            "R[write to console]:             Type len Def  Constr Req Tunable Trafo\n",
            "mtry     integer   -   -  1 to 7   -    TRUE     -\n",
            "nodesize integer   -   - 1 to 10   -    TRUE     -\n",
            "\n",
            "R[write to console]: With control class: TuneControlRandom\n",
            "\n",
            "R[write to console]: Imputation value: -0\n",
            "\n",
            "R[write to console]: [Tune-x] 1: mtry=2; nodesize=4\n",
            "\n",
            "R[write to console]: [Tune-y] 1: auc.test.mean=      NA; time: 0.6 min\n",
            "\n",
            "R[write to console]: [Tune-x] 2: mtry=2; nodesize=4\n",
            "\n",
            "R[write to console]: [Tune-y] 2: auc.test.mean=      NA; time: 0.6 min\n",
            "\n",
            "R[write to console]: [Tune-x] 3: mtry=1; nodesize=5\n",
            "\n",
            "R[write to console]: [Tune-y] 3: auc.test.mean=      NA; time: 0.6 min\n",
            "\n",
            "R[write to console]: [Tune-x] 4: mtry=3; nodesize=9\n",
            "\n",
            "R[write to console]: [Tune-y] 4: auc.test.mean=      NA; time: 0.6 min\n",
            "\n",
            "R[write to console]: [Tune-x] 5: mtry=7; nodesize=9\n",
            "\n",
            "R[write to console]: [Tune-y] 5: auc.test.mean=      NA; time: 0.7 min\n",
            "\n",
            "R[write to console]: [Tune-x] 6: mtry=5; nodesize=2\n",
            "\n",
            "R[write to console]: [Tune-y] 6: auc.test.mean=      NA; time: 0.7 min\n",
            "\n",
            "R[write to console]: [Tune-x] 7: mtry=2; nodesize=7\n",
            "\n",
            "R[write to console]: [Tune-y] 7: auc.test.mean=      NA; time: 0.6 min\n",
            "\n",
            "R[write to console]: [Tune-x] 8: mtry=5; nodesize=9\n",
            "\n",
            "R[write to console]: [Tune-y] 8: auc.test.mean=      NA; time: 0.7 min\n",
            "\n",
            "R[write to console]: [Tune-x] 9: mtry=4; nodesize=9\n",
            "\n",
            "R[write to console]: [Tune-y] 9: auc.test.mean=      NA; time: 0.6 min\n",
            "\n",
            "R[write to console]: [Tune-x] 10: mtry=7; nodesize=6\n",
            "\n",
            "R[write to console]: [Tune-y] 10: auc.test.mean=      NA; time: 0.7 min\n",
            "\n",
            "R[write to console]: [Tune] Result: mtry=3; nodesize=9 : auc.test.mean=      NA\n",
            "\n"
          ]
        }
      ],
      "source": [
        "%%R\n",
        "\n",
        "set.seed(100)\n",
        "\n",
        "tuneRF = tuneParams (learner = lrnRF, task=task, resampling = tune_level, par.set = paramsRF, control = ctrl, measures = list(auc), show.info = TRUE)\n"
      ]
    },
    {
      "cell_type": "markdown",
      "metadata": {
        "id": "-bxjxA1UXMbf"
      },
      "source": [
        "**SVM tuning**"
      ]
    },
    {
      "cell_type": "code",
      "execution_count": null,
      "metadata": {
        "colab": {
          "base_uri": "https://localhost:8080/"
        },
        "id": "GQM_QHQ4XLXo",
        "outputId": "a042e34b-fe6c-4025-d56d-0651a7c8ac9f"
      },
      "outputs": [
        {
          "output_type": "stream",
          "name": "stderr",
          "text": [
            "R[write to console]: [Tune] Started tuning learner classif.ksvm for parameter set:\n",
            "\n",
            "R[write to console]:          Type len Def    Constr Req Tunable Trafo\n",
            "C     numeric   -   - -12 to 15   -    TRUE     Y\n",
            "sigma numeric   -   -  -15 to 6   -    TRUE     Y\n",
            "\n",
            "R[write to console]: With control class: TuneControlRandom\n",
            "\n",
            "R[write to console]: Imputation value: -0\n",
            "\n",
            "R[write to console]: [Tune-x] 1: C=0.0528; sigma=0.178\n",
            "\n",
            "R[write to console]: [Tune-y] 1: auc.test.mean=      NA; time: 0.3 min\n",
            "\n",
            "R[write to console]: [Tune-x] 2: C=9.46e+03; sigma=0.000385\n",
            "\n",
            "R[write to console]: [Tune-y] 2: auc.test.mean=      NA; time: 0.3 min\n",
            "\n",
            "R[write to console]: [Tune-x] 3: C=0.0501; sigma=5.26e-05\n",
            "\n"
          ]
        },
        {
          "output_type": "stream",
          "name": "stdout",
          "text": [
            "maximum number of iterations reached 0.01148302 0.01013522maximum number of iterations reached 0.01288157 0.01119373maximum number of iterations reached 0.0003439579 0.0003394966maximum number of iterations reached 0.0004381318 0.0004309581maximum number of iterations reached 0.01788716 0.01495513maximum number of iterations reached 0.01778292 0.01503957"
          ]
        },
        {
          "output_type": "stream",
          "name": "stderr",
          "text": [
            "R[write to console]: [Tune-y] 3: auc.test.mean=      NA; time: 0.3 min\n",
            "\n",
            "R[write to console]: [Tune-x] 4: C=1.09; sigma=0.000482\n",
            "\n",
            "R[write to console]: [Tune-y] 4: auc.test.mean=      NA; time: 0.3 min\n",
            "\n",
            "R[write to console]: [Tune-x] 5: C=0.00506; sigma=10.4\n",
            "\n",
            "R[write to console]: [Tune-y] 5: auc.test.mean=      NA; time: 0.5 min\n",
            "\n",
            "R[write to console]: [Tune-x] 6: C=0.00257; sigma=4.57e-05\n",
            "\n"
          ]
        },
        {
          "output_type": "stream",
          "name": "stdout",
          "text": [
            "maximum number of iterations reached 0.005602989 0.005597674maximum number of iterations reached 0.02517531 0.02392243maximum number of iterations reached 0.02487555 0.02365914maximum number of iterations reached 0.02604295 0.02455705maximum number of iterations reached 0.02577257 0.02433355maximum number of iterations reached 0.02557888 0.02422858maximum number of iterations reached 0.02682046 0.02517112maximum number of iterations reached 0.02208676 0.02129059maximum number of iterations reached 0.0271662 0.02538352maximum number of iterations reached 0.02388788 0.02284234maximum number of iterations reached 0.02594645 0.02451339maximum number of iterations reached 0.02395385 0.02290249maximum number of iterations reached 0.02513771 0.02388222maximum number of iterations reached 0.005565338 0.005560422maximum number of iterations reached 0.02503085 0.0238037maximum number of iterations reached 0.02558064 0.02422328maximum number of iterations reached 0.02671547 0.02508584maximum number of iterations reached 0.02712452 0.02534579maximum number of iterations reached 0.02579945 0.02436279maximum number of iterations reached 0.021897 0.02111908maximum number of iterations reached 0.01381315 0.01367709maximum number of iterations reached 0.02334927 0.02236952maximum number of iterations reached 0.0232155 0.02224675maximum number of iterations reached 0.02713036 0.02536518maximum number of iterations reached 0.02598365 0.02450667maximum number of iterations reached 0.01465258 0.01447989maximum number of iterations reached 0.02627163 0.02475234maximum number of iterations reached 0.02666676 0.02509962maximum number of iterations reached 0.02554182 0.02421853maximum number of iterations reached 0.02565248 0.02427255maximum number of iterations reached 0.003172193 0.00317155maximum number of iterations reached 0.02713585 0.0253181maximum number of iterations reached 0.02393748 0.02287299maximum number of iterations reached 0.02559521 0.02427769maximum number of iterations reached 0.02549842 0.02412854maximum number of iterations reached 0.02184724 0.02108814maximum number of iterations reached 0.02676616 0.02515148maximum number of iterations reached 0.02544647 0.02411112maximum number of iterations reached 0.02583908 0.0244455maximum number of iterations reached 0.02829728 0.02632886maximum number of iterations reached 0.02664863 0.02506036maximum number of iterations reached 0.02543865 0.02411279maximum number of iterations reached 0.02374437 0.02269614maximum number of iterations reached 0.02621128 0.02471644maximum number of iterations reached 0.02600059 0.02458754maximum number of iterations reached 0.02538566 0.02408846maximum number of iterations reached 0.02735962 0.02552179maximum number of iterations reached 0.003401961 0.003401129maximum number of iterations reached 0.02734658 0.02553958maximum number of iterations reached 0.02230832 0.02147766"
          ]
        },
        {
          "output_type": "stream",
          "name": "stderr",
          "text": [
            "R[write to console]: [Tune-y] 6: auc.test.mean=      NA; time: 0.4 min\n",
            "\n",
            "R[write to console]: [Tune-x] 7: C=0.0798; sigma=0.499\n",
            "\n",
            "R[write to console]: [Tune-y] 7: auc.test.mean=      NA; time: 0.3 min\n",
            "\n",
            "R[write to console]: [Tune-x] 8: C=31.5; sigma=0.054\n",
            "\n",
            "R[write to console]: [Tune-y] 8: auc.test.mean=      NA; time: 0.2 min\n",
            "\n",
            "R[write to console]: [Tune-x] 9: C=0.00439; sigma=0.505\n",
            "\n",
            "R[write to console]: [Tune-y] 9: auc.test.mean=      NA; time: 0.3 min\n",
            "\n",
            "R[write to console]: [Tune-x] 10: C=0.000987; sigma=0.211\n",
            "\n",
            "R[write to console]: [Tune-y] 10: auc.test.mean=      NA; time: 0.3 min\n",
            "\n",
            "R[write to console]: [Tune] Result: C=0.00439; sigma=0.505 : auc.test.mean=      NA\n",
            "\n"
          ]
        }
      ],
      "source": [
        "%%R\n",
        "\n",
        "paramsSVM = makeParamSet(\n",
        "  makeNumericParam(\"C\", lower = -12, upper = 15, trafo = function(x) 2^x),\n",
        "  makeNumericParam(\"sigma\", lower = -15, upper = 6, trafo = function(x) 2^x)\n",
        ")\n",
        "\n",
        "\n",
        "\n",
        "tuneSVM = tuneParams(learner = lrn_ksvm,\n",
        "                  task=task,\n",
        "                  resampling = tune_level,\n",
        "                  par.set = paramsSVM,\n",
        "                  control = ctrl,\n",
        "                  measures = list(auc),\n",
        "                  show.info = TRUE)"
      ]
    },
    {
      "cell_type": "code",
      "execution_count": null,
      "metadata": {
        "id": "nHQZWw6hZHbL"
      },
      "outputs": [],
      "source": [
        "##%%R\n",
        "\n",
        "#build the model\n",
        "\n",
        "##svmMOD<-ksvm(species~.,data=parrot_model, type=\"C-svc\",\n",
        "  ##           kernel=rbfdot,kpar=list(sigma=tuneSVM$x$sigma),C=tuneSVM$x$C,prob.model=TRUE)\n",
        "\n",
        "\n",
        "\n",
        "##predKSVM<-raster::predict(env,svmMOD,type=\"prob\",index=2)\n",
        "\n",
        "##plot(predKSVM)\n"
      ]
    },
    {
      "cell_type": "markdown",
      "metadata": {
        "id": "ejgVnKrk-NU8"
      },
      "source": [
        "**Fit a bioclim model**"
      ]
    },
    {
      "cell_type": "code",
      "execution_count": null,
      "metadata": {
        "id": "6P8Z7_9r-M0O"
      },
      "outputs": [],
      "source": [
        "%%R\n",
        "\n",
        "bc <- bioclim(predictors, parrot_df_points)"
      ]
    },
    {
      "cell_type": "code",
      "execution_count": null,
      "metadata": {
        "id": "0DpnGIWi-azx",
        "colab": {
          "base_uri": "https://localhost:8080/",
          "height": 497
        },
        "outputId": "3fdc126d-6644-4600-e569-070548871d1c"
      },
      "outputs": [
        {
          "output_type": "display_data",
          "data": {
            "image/png": "[encoded data removed]"
          },
          "metadata": {}
        }
      ],
      "source": [
        "%%R\n",
        "\n",
        "pairs(bc)"
      ]
    },
    {
      "cell_type": "code",
      "execution_count": null,
      "metadata": {
        "id": "FXuAgd8G-lbq",
        "colab": {
          "base_uri": "https://localhost:8080/",
          "height": 497
        },
        "outputId": "1c48e592-20d5-4697-d480-4c0dea5ddd13"
      },
      "outputs": [
        {
          "output_type": "display_data",
          "data": {
            "image/png": "[encoded data removed]"
          },
          "metadata": {}
        }
      ],
      "source": [
        "%%R\n",
        "\n",
        "response(bc)"
      ]
    },
    {
      "cell_type": "code",
      "execution_count": null,
      "metadata": {
        "id": "uv0qVocw_Pba",
        "colab": {
          "base_uri": "https://localhost:8080/"
        },
        "outputId": "09375ca5-b9a3-4c64-9a41-8a1f973ec8de"
      },
      "outputs": [
        {
          "output_type": "stream",
          "name": "stdout",
          "text": [
            "class      : RasterLayer \n",
            "dimensions : 2030, 2134, 4332020  (nrow, ncol, ncell)\n",
            "resolution : 0.04166667, 0.04166667  (x, y)\n",
            "extent     : -25.41667, 63.5, -47, 37.58333  (xmin, xmax, ymin, ymax)\n",
            "crs        : +proj=longlat +datum=WGS84 +ellps=WGS84 +towgs84=0,0,0 \n",
            "source     : memory\n",
            "names      : layer \n",
            "values     : 0, 0.710544  (min, max)\n",
            "\n"
          ]
        }
      ],
      "source": [
        "%%R\n",
        "\n",
        "pb <- predict(predictors, bc, progress='')\n",
        "pb"
      ]
    },
    {
      "cell_type": "code",
      "execution_count": null,
      "metadata": {
        "id": "9HGRX5df_evz",
        "colab": {
          "base_uri": "https://localhost:8080/",
          "height": 497
        },
        "outputId": "eb63ea1d-318a-49de-f05d-7c409c7f00d2"
      },
      "outputs": [
        {
          "output_type": "display_data",
          "data": {
            "image/png": "[encoded data removed]"
          },
          "metadata": {}
        }
      ],
      "source": [
        "%%R\n",
        "par(mfrow=c(1,2))\n",
        "plot(pb, main='Bioclim, raw values')     # plot raw likelihood values\n",
        "plot(pb > 0.1, main='presence/absence')  # plot with cells > 0.1"
      ]
    }
  ],
  "metadata": {
    "colab": {
      "provenance": [],
      "authorship_tag": "ABX9TyMHu/QQz0L2Baul0MeU8tdW",
      "include_colab_link": true
    },
    "kernelspec": {
      "display_name": "Python 3",
      "name": "python3"
    },
    "language_info": {
      "name": "python"
    }
  },
  "nbformat": 4,
  "nbformat_minor": 0
}